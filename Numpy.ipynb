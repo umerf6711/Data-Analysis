{
 "cells": [
  {
   "cell_type": "code",
   "execution_count": 1,
   "id": "61673200",
   "metadata": {},
   "outputs": [],
   "source": [
    "import numpy as np"
   ]
  },
  {
   "cell_type": "markdown",
   "id": "04beaefa",
   "metadata": {},
   "source": [
    "**Array**"
   ]
  },
  {
   "cell_type": "code",
   "execution_count": 2,
   "id": "f7bf09b9",
   "metadata": {},
   "outputs": [
    {
     "name": "stdout",
     "output_type": "stream",
     "text": [
      "[2 3 5]\n"
     ]
    }
   ],
   "source": [
    "a = np.array([2,3,5])\n",
    "print(a)"
   ]
  },
  {
   "cell_type": "code",
   "execution_count": 3,
   "id": "5e3a17f1",
   "metadata": {},
   "outputs": [
    {
     "name": "stdout",
     "output_type": "stream",
     "text": [
      "[list([2, 345, 6]) list([2, 3, 5, 7])]\n"
     ]
    },
    {
     "name": "stderr",
     "output_type": "stream",
     "text": [
      "C:\\Users\\malik bros\\AppData\\Local\\Temp\\ipykernel_11160\\631152685.py:2: VisibleDeprecationWarning: Creating an ndarray from ragged nested sequences (which is a list-or-tuple of lists-or-tuples-or ndarrays with different lengths or shapes) is deprecated. If you meant to do this, you must specify 'dtype=object' when creating the ndarray.\n",
      "  a = np.array([[2,345,6],[2,3,5,7]])\n"
     ]
    }
   ],
   "source": [
    "import numpy as np\n",
    "a = np.array([[2,345,6],[2,3,5,7]])\n",
    "print(a)"
   ]
  },
  {
   "cell_type": "code",
   "execution_count": 4,
   "id": "c6e6c06f",
   "metadata": {},
   "outputs": [
    {
     "name": "stdout",
     "output_type": "stream",
     "text": [
      "[[ 2 34  6  3]]\n"
     ]
    }
   ],
   "source": [
    "a = np.array([2,34,6,3],ndmin=2)\n",
    "print(a)"
   ]
  },
  {
   "cell_type": "code",
   "execution_count": 5,
   "id": "99092678",
   "metadata": {},
   "outputs": [
    {
     "name": "stdout",
     "output_type": "stream",
     "text": [
      "[2.+0.j 3.+0.j 4.+0.j]\n"
     ]
    }
   ],
   "source": [
    "a = np.array([2,3,4],dtype=complex)\n",
    "print(a)"
   ]
  },
  {
   "cell_type": "markdown",
   "id": "c261095b",
   "metadata": {},
   "source": [
    "**dtype**"
   ]
  },
  {
   "cell_type": "code",
   "execution_count": 6,
   "id": "4f3c044c",
   "metadata": {},
   "outputs": [
    {
     "name": "stdout",
     "output_type": "stream",
     "text": [
      "int32\n"
     ]
    }
   ],
   "source": [
    "dt = np.dtype(np.int32)\n",
    "print(dt)"
   ]
  },
  {
   "cell_type": "code",
   "execution_count": 7,
   "id": "cfa887cb",
   "metadata": {},
   "outputs": [
    {
     "name": "stdout",
     "output_type": "stream",
     "text": [
      "int32\n"
     ]
    }
   ],
   "source": [
    "dt = np.dtype('i4')\n",
    "print(dt)"
   ]
  },
  {
   "cell_type": "code",
   "execution_count": 8,
   "id": "ee734045",
   "metadata": {},
   "outputs": [
    {
     "name": "stdout",
     "output_type": "stream",
     "text": [
      ">i4\n"
     ]
    }
   ],
   "source": [
    "dt = np.dtype('>i4')\n",
    "print(dt)"
   ]
  },
  {
   "cell_type": "code",
   "execution_count": 9,
   "id": "c1ff88ec",
   "metadata": {},
   "outputs": [
    {
     "name": "stdout",
     "output_type": "stream",
     "text": [
      "[('age', 'i1')]\n"
     ]
    }
   ],
   "source": [
    "dt = np.dtype([('age',np.int8)])\n",
    "print(dt)"
   ]
  },
  {
   "cell_type": "code",
   "execution_count": 10,
   "id": "a9d2de0e",
   "metadata": {},
   "outputs": [
    {
     "name": "stdout",
     "output_type": "stream",
     "text": [
      "[(10,) (20,) (30,)]\n"
     ]
    }
   ],
   "source": [
    "dt = np.dtype([('age',np.int8)])\n",
    "a = np.array([(10),(20),(30)],dtype= dt)\n",
    "print(a)"
   ]
  },
  {
   "cell_type": "markdown",
   "id": "e2818a31",
   "metadata": {},
   "source": [
    "**numpy array attributes**"
   ]
  },
  {
   "cell_type": "code",
   "execution_count": 11,
   "id": "4959b293",
   "metadata": {},
   "outputs": [
    {
     "name": "stdout",
     "output_type": "stream",
     "text": [
      "[[1 2]\n",
      " [3 4]\n",
      " [5 6]]\n"
     ]
    }
   ],
   "source": [
    "#shape\n",
    "a = np.array([1,2,3,4,5,6])\n",
    "a.shape = (3,2)\n",
    "print(a)"
   ]
  },
  {
   "cell_type": "code",
   "execution_count": 12,
   "id": "7172b363",
   "metadata": {},
   "outputs": [
    {
     "name": "stdout",
     "output_type": "stream",
     "text": [
      "[[1 2 3]\n",
      " [4 5 6]]\n"
     ]
    }
   ],
   "source": [
    "#reshape\n",
    "b = a.reshape(2,3)\n",
    "print(b)"
   ]
  },
  {
   "cell_type": "code",
   "execution_count": 13,
   "id": "8f453a52",
   "metadata": {},
   "outputs": [
    {
     "name": "stdout",
     "output_type": "stream",
     "text": [
      "[ 0  1  2  3  4  5  6  7  8  9 10 11 12 13 14 15 16 17 18 19 20 21 22 23]\n"
     ]
    }
   ],
   "source": [
    "#arange\n",
    "a = np.arange(24)\n",
    "print(a)"
   ]
  },
  {
   "cell_type": "code",
   "execution_count": 14,
   "id": "3db83059",
   "metadata": {},
   "outputs": [
    {
     "data": {
      "text/plain": [
       "1"
      ]
     },
     "execution_count": 14,
     "metadata": {},
     "output_type": "execute_result"
    }
   ],
   "source": [
    "#ndim\n",
    "a.ndim\n"
   ]
  },
  {
   "cell_type": "code",
   "execution_count": 15,
   "id": "7de05755",
   "metadata": {},
   "outputs": [
    {
     "name": "stdout",
     "output_type": "stream",
     "text": [
      "[[[ 0  1  2]\n",
      "  [ 3  4  5]\n",
      "  [ 6  7  8]\n",
      "  [ 9 10 11]]\n",
      "\n",
      " [[12 13 14]\n",
      "  [15 16 17]\n",
      "  [18 19 20]\n",
      "  [21 22 23]]]\n"
     ]
    }
   ],
   "source": [
    "b = a.reshape(2,4,3)\n",
    "print(b)"
   ]
  },
  {
   "cell_type": "code",
   "execution_count": 16,
   "id": "e01d5160",
   "metadata": {},
   "outputs": [
    {
     "name": "stdout",
     "output_type": "stream",
     "text": [
      "  C_CONTIGUOUS : True\n",
      "  F_CONTIGUOUS : True\n",
      "  OWNDATA : True\n",
      "  WRITEABLE : True\n",
      "  ALIGNED : True\n",
      "  WRITEBACKIFCOPY : False\n",
      "  UPDATEIFCOPY : False\n",
      "\n"
     ]
    }
   ],
   "source": [
    "#flags\n",
    "print(a.flags)"
   ]
  },
  {
   "cell_type": "code",
   "execution_count": 17,
   "id": "d97bf5c8",
   "metadata": {},
   "outputs": [
    {
     "name": "stdout",
     "output_type": "stream",
     "text": [
      "[[1 2]\n",
      " [3 4]\n",
      " [5 6]]\n"
     ]
    }
   ],
   "source": [
    "#empyty\n",
    "print(np.empty([3,2],dtype=int))"
   ]
  },
  {
   "cell_type": "code",
   "execution_count": 18,
   "id": "a7a2536c",
   "metadata": {},
   "outputs": [
    {
     "name": "stdout",
     "output_type": "stream",
     "text": [
      "[[0 0]\n",
      " [0 0]] [[1 1]\n",
      " [1 1]]\n"
     ]
    }
   ],
   "source": [
    "#zeros and ones\n",
    "x = np.zeros([2,2],dtype=int)\n",
    "y = np.ones([2,2],dtype=int)\n",
    "print(x,y)"
   ]
  },
  {
   "cell_type": "markdown",
   "id": "2d7a163b",
   "metadata": {},
   "source": [
    "**Array from existing data**"
   ]
  },
  {
   "cell_type": "code",
   "execution_count": 19,
   "id": "29f435d8",
   "metadata": {},
   "outputs": [
    {
     "name": "stdout",
     "output_type": "stream",
     "text": [
      "[1 2 3]\n"
     ]
    }
   ],
   "source": [
    "#asarray\n",
    "#list\n",
    "x = [1,2,3]\n",
    "a = np.asarray(x)\n",
    "print(a)\n"
   ]
  },
  {
   "cell_type": "code",
   "execution_count": 20,
   "id": "b0f80ce8",
   "metadata": {},
   "outputs": [
    {
     "name": "stdout",
     "output_type": "stream",
     "text": [
      "[1. 2. 3.]\n"
     ]
    }
   ],
   "source": [
    "#tuple\n",
    "x = (1,2,3)\n",
    "print(np.asarray(x,dtype=float))"
   ]
  },
  {
   "cell_type": "code",
   "execution_count": 21,
   "id": "45f0d1ca",
   "metadata": {},
   "outputs": [
    {
     "name": "stdout",
     "output_type": "stream",
     "text": [
      "([1, 2, 3], [4, 5, 6])\n"
     ]
    }
   ],
   "source": [
    "#list of tuple\n",
    "x = ([1,2,3],[4,5,6])\n",
    "a = np.asarray(x)\n",
    "print(x)"
   ]
  },
  {
   "cell_type": "code",
   "execution_count": 22,
   "id": "d9a0541b",
   "metadata": {},
   "outputs": [],
   "source": [
    "#fromiter\n",
    "list = range(5)\n",
    "it = iter(list)\n"
   ]
  },
  {
   "cell_type": "code",
   "execution_count": 23,
   "id": "05b03cca",
   "metadata": {},
   "outputs": [
    {
     "name": "stdout",
     "output_type": "stream",
     "text": [
      "[10 12 14 16 18]\n"
     ]
    }
   ],
   "source": [
    "# arange\n",
    "a = np.arange(10,20,2)\n",
    "print(a)"
   ]
  },
  {
   "cell_type": "code",
   "execution_count": 24,
   "id": "2abdf53d",
   "metadata": {},
   "outputs": [
    {
     "name": "stdout",
     "output_type": "stream",
     "text": [
      "[ 1.    3.25  5.5   7.75 10.  ]\n"
     ]
    }
   ],
   "source": [
    "#linspace#just like arange. but differnce is the 3rd value means the no of elements not the difference between \n",
    "#element that is arange\n",
    "\n",
    "#linspace\n",
    "x = np.linspace(1,10,5)\n",
    "print(x)"
   ]
  },
  {
   "cell_type": "code",
   "execution_count": 25,
   "id": "c026ec6e",
   "metadata": {},
   "outputs": [
    {
     "name": "stdout",
     "output_type": "stream",
     "text": [
      "[1.  2.8 4.6 6.4 8.2]\n"
     ]
    }
   ],
   "source": [
    "x = np.linspace(1,10,5, endpoint = False)\n",
    "print(x)"
   ]
  },
  {
   "cell_type": "markdown",
   "id": "f6b57021",
   "metadata": {},
   "source": [
    "**indexing and slicing**"
   ]
  },
  {
   "cell_type": "code",
   "execution_count": 26,
   "id": "b927797b",
   "metadata": {},
   "outputs": [
    {
     "name": "stdout",
     "output_type": "stream",
     "text": [
      "[0 1 2 3 4 5 6 7 8 9]\n",
      "[2 4 6]\n"
     ]
    }
   ],
   "source": [
    "a = np.arange(10)\n",
    "s = slice(2,7,2) #2=staritng index, 7= ending index , 2 = step to jump\n",
    "print(a)\n",
    "print(a[s])"
   ]
  },
  {
   "cell_type": "code",
   "execution_count": 27,
   "id": "d3caa411",
   "metadata": {},
   "outputs": [
    {
     "name": "stdout",
     "output_type": "stream",
     "text": [
      "[2 4 6]\n"
     ]
    }
   ],
   "source": [
    "#slice direct\n",
    "b = a[2:7:2]\n",
    "print(b)"
   ]
  },
  {
   "cell_type": "code",
   "execution_count": 28,
   "id": "1f2e2d3c",
   "metadata": {},
   "outputs": [
    {
     "name": "stdout",
     "output_type": "stream",
     "text": [
      "2\n"
     ]
    }
   ],
   "source": [
    "print(a[2]) #just number of index 2"
   ]
  },
  {
   "cell_type": "code",
   "execution_count": 29,
   "id": "4faad946",
   "metadata": {},
   "outputs": [
    {
     "name": "stdout",
     "output_type": "stream",
     "text": [
      "[2 3 4 5 6 7 8 9]\n"
     ]
    }
   ],
   "source": [
    "print(a[2:]) #all above 2"
   ]
  },
  {
   "cell_type": "code",
   "execution_count": 30,
   "id": "a703e38f",
   "metadata": {},
   "outputs": [
    {
     "name": "stdout",
     "output_type": "stream",
     "text": [
      "[2 3 4]\n"
     ]
    }
   ],
   "source": [
    "print(a[2:5]) #starting and ending point"
   ]
  },
  {
   "cell_type": "code",
   "execution_count": 31,
   "id": "71bbffe1",
   "metadata": {},
   "outputs": [
    {
     "name": "stdout",
     "output_type": "stream",
     "text": [
      "[[1 2 3]\n",
      " [4 5 6]\n",
      " [7 8 9]]\n"
     ]
    }
   ],
   "source": [
    "a = np.array([[1,2,3],[4,5,6],[7,8,9]])\n",
    "print(a)\n"
   ]
  },
  {
   "cell_type": "code",
   "execution_count": 32,
   "id": "4b26ec02",
   "metadata": {},
   "outputs": [
    {
     "name": "stdout",
     "output_type": "stream",
     "text": [
      "[[4 5 6]\n",
      " [7 8 9]]\n"
     ]
    }
   ],
   "source": [
    "print(a[1:]) #starting from the arary of index 1\n"
   ]
  },
  {
   "cell_type": "code",
   "execution_count": 33,
   "id": "85b55dc5",
   "metadata": {},
   "outputs": [
    {
     "name": "stdout",
     "output_type": "stream",
     "text": [
      "2nd row is\n",
      "[4 5 6]\n"
     ]
    }
   ],
   "source": [
    "print('2nd row is')\n",
    "print(a[1,...])"
   ]
  },
  {
   "cell_type": "code",
   "execution_count": 34,
   "id": "035560f4",
   "metadata": {},
   "outputs": [
    {
     "name": "stdout",
     "output_type": "stream",
     "text": [
      "2nd column is: [2 5 8]\n"
     ]
    }
   ],
   "source": [
    "print('2nd column is:',a[...,1])"
   ]
  },
  {
   "cell_type": "code",
   "execution_count": 35,
   "id": "92bc6487",
   "metadata": {},
   "outputs": [
    {
     "name": "stdout",
     "output_type": "stream",
     "text": [
      "upto 2nd row:  [[4 5 6]\n",
      " [7 8 9]]\n"
     ]
    }
   ],
   "source": [
    "print('upto 2nd row: ', a[1:,])"
   ]
  },
  {
   "cell_type": "code",
   "execution_count": 36,
   "id": "2e48a3fb",
   "metadata": {},
   "outputs": [
    {
     "name": "stdout",
     "output_type": "stream",
     "text": [
      "upto 2nd col:  [[2 3]\n",
      " [5 6]\n",
      " [8 9]]\n"
     ]
    }
   ],
   "source": [
    "print('upto 2nd col: ', a[...,1:])"
   ]
  },
  {
   "cell_type": "code",
   "execution_count": 37,
   "id": "1e16a783",
   "metadata": {},
   "outputs": [
    {
     "name": "stdout",
     "output_type": "stream",
     "text": [
      "[[1 2 3]\n",
      " [4 5 6]\n",
      " [7 8 9]]\n"
     ]
    }
   ],
   "source": [
    "#integer indexing\n",
    "print(a)"
   ]
  },
  {
   "cell_type": "code",
   "execution_count": 38,
   "id": "1d69dd62",
   "metadata": {},
   "outputs": [
    {
     "name": "stdout",
     "output_type": "stream",
     "text": [
      "[1 6 7]\n"
     ]
    }
   ],
   "source": [
    "print(a[[0,1,2],[0,2,0]]) #1st[] represents index of rows,2nd[ ] index of column"
   ]
  },
  {
   "cell_type": "code",
   "execution_count": 39,
   "id": "ce77a755",
   "metadata": {},
   "outputs": [
    {
     "name": "stdout",
     "output_type": "stream",
     "text": [
      "[[1 3]\n",
      " [7 9]]\n"
     ]
    }
   ],
   "source": [
    "#corner elements using advance indexing\n",
    "rows = np.array([[0,0],[2,2]])\n",
    "col = np.array([[0,2],[0,2]])\n",
    "print(a[rows,col])"
   ]
  },
  {
   "cell_type": "code",
   "execution_count": 40,
   "id": "ac893e05",
   "metadata": {},
   "outputs": [
    {
     "name": "stdout",
     "output_type": "stream",
     "text": [
      "[[5]]\n"
     ]
    }
   ],
   "source": [
    "#sclicing\n",
    "print(a[1:2,1:2])"
   ]
  },
  {
   "cell_type": "code",
   "execution_count": 41,
   "id": "498c67d1",
   "metadata": {},
   "outputs": [
    {
     "name": "stdout",
     "output_type": "stream",
     "text": [
      "[5 6 7 8 9]\n"
     ]
    }
   ],
   "source": [
    "#boolen array indexing\n",
    "print(a[a > 4])"
   ]
  },
  {
   "cell_type": "code",
   "execution_count": 42,
   "id": "f0cb0042",
   "metadata": {},
   "outputs": [
    {
     "name": "stdout",
     "output_type": "stream",
     "text": [
      "[1. 2. 3. 4. 5.]\n"
     ]
    }
   ],
   "source": [
    "# delete nan\n",
    "a = np.array([np.nan,1,2,np.nan,3,4,5])\n",
    "print(a[~np.isnan(a)])"
   ]
  },
  {
   "cell_type": "code",
   "execution_count": 43,
   "id": "0d947a81",
   "metadata": {},
   "outputs": [
    {
     "name": "stdout",
     "output_type": "stream",
     "text": [
      "[2.+6.j 3.+4.j]\n"
     ]
    }
   ],
   "source": [
    "#filtering non complex element\n",
    "a = np.array([1,2+6j,5,3+4j])\n",
    "print(a[np.iscomplex(a)])"
   ]
  },
  {
   "cell_type": "markdown",
   "id": "e204b660",
   "metadata": {},
   "source": [
    "**Numpy Broadcasting**"
   ]
  },
  {
   "cell_type": "code",
   "execution_count": 44,
   "id": "b29b6617",
   "metadata": {},
   "outputs": [
    {
     "name": "stdout",
     "output_type": "stream",
     "text": [
      "[  0.  20.  60. 120. 200.]\n"
     ]
    }
   ],
   "source": [
    "#Broadcasting means abilibity of numpy to perform arithmetic operations in two arrays having different number of elements\n",
    "#here is arrys with the same number of elements\n",
    "a = np.arange(5)\n",
    "b = np.linspace(10,50,5)\n",
    "c = a*b\n",
    "print(c)"
   ]
  },
  {
   "cell_type": "code",
   "execution_count": 45,
   "id": "c1fa21a1",
   "metadata": {},
   "outputs": [
    {
     "name": "stdout",
     "output_type": "stream",
     "text": [
      "[[ 1  2  3]\n",
      " [11 12 13]\n",
      " [21 22 23]]\n"
     ]
    }
   ],
   "source": [
    "a = np.array([[0,0,0],[10,10,10],[20,20,20]])\n",
    "b = np.array([1,2,3])\n",
    "print(a+b)"
   ]
  },
  {
   "cell_type": "code",
   "execution_count": 46,
   "id": "2d0750dc",
   "metadata": {},
   "outputs": [
    {
     "name": "stdout",
     "output_type": "stream",
     "text": [
      "orignal array [[ 0.          5.45454545 10.90909091 16.36363636]\n",
      " [21.81818182 27.27272727 32.72727273 38.18181818]\n",
      " [43.63636364 49.09090909 54.54545455 60.        ]]\n",
      "0.0\n",
      "5.454545454545454\n",
      "10.909090909090908\n",
      "16.363636363636363\n",
      "21.818181818181817\n",
      "27.27272727272727\n",
      "32.72727272727273\n",
      "38.18181818181818\n",
      "43.63636363636363\n",
      "49.090909090909086\n",
      "54.54545454545454\n",
      "60.0\n"
     ]
    }
   ],
   "source": [
    "#Iteration over array\n",
    "a = np.linspace(0,60,12)\n",
    "a = a.reshape(3,4)\n",
    "b = a.T\n",
    "print('orignal array',a)\n",
    "for i in np.nditer(a):\n",
    "    print(i)\n",
    "    "
   ]
  },
  {
   "cell_type": "code",
   "execution_count": 47,
   "id": "1e8b3164",
   "metadata": {},
   "outputs": [
    {
     "name": "stdout",
     "output_type": "stream",
     "text": [
      "[[ 0.         21.81818182 43.63636364]\n",
      " [ 5.45454545 27.27272727 49.09090909]\n",
      " [10.90909091 32.72727273 54.54545455]\n",
      " [16.36363636 38.18181818 60.        ]]\n",
      "\n",
      "\n",
      "0.0\n",
      "5.454545454545454\n",
      "10.909090909090908\n",
      "16.363636363636363\n",
      "21.818181818181817\n",
      "27.27272727272727\n",
      "32.72727272727273\n",
      "38.18181818181818\n",
      "43.63636363636363\n",
      "49.090909090909086\n",
      "54.54545454545454\n",
      "60.0\n"
     ]
    }
   ],
   "source": [
    "print(b)\n",
    "print('\\n')\n",
    "for i in np.nditer(b):\n",
    "    print(i)"
   ]
  },
  {
   "cell_type": "code",
   "execution_count": 48,
   "id": "4a08a0fa",
   "metadata": {},
   "outputs": [
    {
     "name": "stdout",
     "output_type": "stream",
     "text": [
      "[[ 0.         21.81818182 43.63636364]\n",
      " [ 5.45454545 27.27272727 49.09090909]\n",
      " [10.90909091 32.72727273 54.54545455]\n",
      " [16.36363636 38.18181818 60.        ]]\n",
      "\n",
      "\n",
      "0.0\n",
      "21.818181818181817\n",
      "43.63636363636363\n",
      "5.454545454545454\n",
      "27.27272727272727\n",
      "49.090909090909086\n",
      "10.909090909090908\n",
      "32.72727272727273\n",
      "54.54545454545454\n",
      "16.363636363636363\n",
      "38.18181818181818\n",
      "60.0\n",
      "\n",
      "\n",
      "[[ 0.         21.81818182 43.63636364]\n",
      " [ 5.45454545 27.27272727 49.09090909]\n",
      " [10.90909091 32.72727273 54.54545455]\n",
      " [16.36363636 38.18181818 60.        ]]\n",
      "\n",
      "\n",
      "0.0\n",
      "5.454545454545454\n",
      "10.909090909090908\n",
      "16.363636363636363\n",
      "21.818181818181817\n",
      "27.27272727272727\n",
      "32.72727272727273\n",
      "38.18181818181818\n",
      "43.63636363636363\n",
      "49.090909090909086\n",
      "54.54545454545454\n",
      "60.0\n"
     ]
    }
   ],
   "source": [
    "c = b.copy(order='C') # C row order\n",
    "print(c)\n",
    "print('\\n')\n",
    "for i in np.nditer(c):\n",
    "    print(i)\n",
    "print('\\n')\n",
    "c = b.copy(order='F') #F  means fortran/ column order\n",
    "print(c)\n",
    "print('\\n')\n",
    "for i in np.nditer(c):\n",
    "    print(i)\n",
    "    \n",
    "    "
   ]
  },
  {
   "cell_type": "code",
   "execution_count": 49,
   "id": "1ffb3c1a",
   "metadata": {},
   "outputs": [
    {
     "name": "stdout",
     "output_type": "stream",
     "text": [
      "[[ 0  1  2  3]\n",
      " [ 4  5  6  7]\n",
      " [ 8  9 10 11]]\n",
      "\n",
      "\n",
      "0\n",
      "1\n",
      "2\n",
      "3\n",
      "4\n",
      "5\n",
      "6\n",
      "7\n",
      "8\n",
      "9\n",
      "10\n",
      "11\n",
      "\n",
      "\n",
      "0\n",
      "4\n",
      "8\n",
      "1\n",
      "5\n",
      "9\n",
      "2\n",
      "6\n",
      "10\n",
      "3\n",
      "7\n",
      "11\n"
     ]
    }
   ],
   "source": [
    "#example\n",
    "\n",
    "a = np.arange(12).reshape(3,4)\n",
    "print(a)\n",
    "print('\\n')\n",
    "for i in np.nditer(a,order='C'):\n",
    "    print(i)\n",
    "print('\\n')\n",
    "for i in np.nditer(a,order='F'):\n",
    "    print(i)\n",
    "    "
   ]
  },
  {
   "cell_type": "code",
   "execution_count": 50,
   "id": "a7333a05",
   "metadata": {},
   "outputs": [
    {
     "name": "stdout",
     "output_type": "stream",
     "text": [
      "0\n",
      "1\n",
      "2\n",
      "3\n",
      "4\n",
      "5\n",
      "6\n",
      "7\n",
      "8\n",
      "9\n",
      "10\n",
      "11\n"
     ]
    }
   ],
   "source": [
    "#using simple for loop\n",
    "for i in a:\n",
    "    for cell in i:\n",
    "        print(cell)\n",
    "        "
   ]
  },
  {
   "cell_type": "code",
   "execution_count": 51,
   "id": "19ddf77c",
   "metadata": {},
   "outputs": [
    {
     "name": "stdout",
     "output_type": "stream",
     "text": [
      "[[ 0  1  2  3]\n",
      " [ 4  5  6  7]\n",
      " [ 8  9 10 11]]\n",
      "\n",
      "\n",
      "[[ 0  2  4  6]\n",
      " [ 8 10 12 14]\n",
      " [16 18 20 22]]\n"
     ]
    }
   ],
   "source": [
    "#op_flags # to write in preexisting array\n",
    "print(a)\n",
    "print('\\n')\n",
    "for i in np.nditer(a,op_flags=['readwrite']):\n",
    "    i[...]=2*i\n",
    "print(a)"
   ]
  },
  {
   "cell_type": "code",
   "execution_count": 52,
   "id": "d1dd83c6",
   "metadata": {},
   "outputs": [
    {
     "name": "stdout",
     "output_type": "stream",
     "text": [
      "[ 0  8 16]\n",
      "[ 2 10 18]\n",
      "[ 4 12 20]\n",
      "[ 6 14 22]\n",
      "\n",
      "\n",
      "[ 0  2  4  6  8 10 12 14 16 18 20 22]\n"
     ]
    }
   ],
   "source": [
    "# use flags if we want the whole row or column\n",
    "\n",
    "for i in np.nditer(a,flags=['external_loop'],order='F'): #column\n",
    "    print(i)\n",
    "print('\\n')\n",
    "for i in np.nditer(a,flags=['external_loop'],order='C'): #rows\n",
    "    print(i)"
   ]
  },
  {
   "cell_type": "code",
   "execution_count": 53,
   "id": "1971dee6",
   "metadata": {},
   "outputs": [
    {
     "name": "stdout",
     "output_type": "stream",
     "text": [
      "0  1\n",
      "1  2\n",
      "2  3\n",
      "3  4\n",
      "4  1\n",
      "5  2\n",
      "6  3\n",
      "7  4\n",
      "8  1\n",
      "9  2\n",
      "10  3\n",
      "11  4\n",
      "12  1\n",
      "13  2\n",
      "14  3\n",
      "15  4\n"
     ]
    }
   ],
   "source": [
    "#Broadcasting iteration : small array enlarge itselves to complete perform function with large array\n",
    "\n",
    "a = np.arange(16).reshape(4,4)\n",
    "b = np.array([1,2,3,4])\n",
    "for x,y in np.nditer([a,b]):\n",
    "    print(x,'',y)"
   ]
  },
  {
   "cell_type": "markdown",
   "id": "ed90cf6f",
   "metadata": {},
   "source": [
    "**Mathematical Function**"
   ]
  },
  {
   "cell_type": "markdown",
   "id": "0d9e4392",
   "metadata": {},
   "source": [
    "*Trigonometric Function*"
   ]
  },
  {
   "cell_type": "code",
   "execution_count": 54,
   "id": "bc9893af",
   "metadata": {},
   "outputs": [
    {
     "name": "stdout",
     "output_type": "stream",
     "text": [
      "sin of angles: [0.        0.5       0.8660254 1.       ] \n",
      " cos of angles: [1.00000000e+00 8.66025404e-01 5.00000000e-01 6.12323400e-17] \n",
      " tan of angles: [0.00000000e+00 5.77350269e-01 1.73205081e+00 1.63312394e+16]\n"
     ]
    }
   ],
   "source": [
    "#sin,cos,tan\n",
    "\n",
    "a = np.array([0,30,60,90])\n",
    "s = np.sin(a*np.pi/180)#converting into radian\n",
    "c = np.cos(a*np.pi/180)\n",
    "t = np.tan(a*np.pi/180)\n",
    "print('sin of angles:',s,'\\n','cos of angles:',c,'\\n','tan of angles:',t)\n"
   ]
  },
  {
   "cell_type": "code",
   "execution_count": 56,
   "id": "69a05824",
   "metadata": {},
   "outputs": [
    {
     "name": "stdout",
     "output_type": "stream",
     "text": [
      "sin of angles: [0.        0.5       0.8660254 1.       ] \n",
      " inverse of sin: [0.         0.52359878 1.04719755 1.57079633] \n",
      " in degrees: [ 0. 30. 60. 90.] \n",
      " \n",
      " cos of angles: [1.00000000e+00 8.66025404e-01 5.00000000e-01 6.12323400e-17] \n",
      " inverse of cos: [0.         0.52359878 1.04719755 1.57079633] \n",
      " in degrees: [ 0. 30. 60. 90.] \n",
      " \n",
      " tan of angles: [0.00000000e+00 5.77350269e-01 1.73205081e+00 1.63312394e+16] \n",
      " inverse of tan: [0.         0.52359878 1.04719755 1.57079633] \n",
      " in degrees: [ 0. 30. 60. 90.] \n",
      "\n"
     ]
    }
   ],
   "source": [
    "# inverse of sin,cos,tan\n",
    "\n",
    "i_s = np.arcsin(s)\n",
    "inv_s_d = np.degrees(i_s) \n",
    "i_c = np.arccos(c)\n",
    "inv_c_d = np.degrees(i_c)\n",
    "i_t = np.arctan(t)\n",
    "inv_t_d = np.degrees(i_t)\n",
    "print('sin of angles:',s,'\\n','inverse of sin:',i_s,'\\n','in degrees:',inv_s_d,'\\n','\\n',\n",
    "     'cos of angles:',c,'\\n','inverse of cos:',i_c,'\\n','in degrees:',inv_c_d,'\\n','\\n',\n",
    "     'tan of angles:',t,'\\n','inverse of tan:',i_t,'\\n','in degrees:',inv_t_d,'\\n',)"
   ]
  },
  {
   "cell_type": "markdown",
   "id": "7bc32eff",
   "metadata": {},
   "source": [
    "*Functions of rounding*"
   ]
  },
  {
   "cell_type": "code",
   "execution_count": 57,
   "id": "bdd35bad",
   "metadata": {},
   "outputs": [
    {
     "name": "stdout",
     "output_type": "stream",
     "text": [
      "Orignal array:      [  1.       5.55   123.       0.445   33.8933]\n",
      "Rounding:           [  1.   6. 123.   0.  34.]\n",
      "With decimals:      [  1.    5.6 123.    0.4  33.9]\n",
      "With decimals:      [  0.  10. 120.   0.  30.]\n"
     ]
    }
   ],
   "source": [
    "# around \n",
    "a = np.array([1.0,5.55,123,0.445,33.8933])\n",
    "print('Orignal array:     ',a)\n",
    "print('Rounding:          ',np.around(a))\n",
    "print('With decimals:     ',np.around(a,decimals=1))\n",
    "print('With decimals:     ',np.around(a,decimals=-1))"
   ]
  },
  {
   "cell_type": "code",
   "execution_count": 60,
   "id": "83278f6d",
   "metadata": {},
   "outputs": [
    {
     "name": "stdout",
     "output_type": "stream",
     "text": [
      "[-3.  2.  2.  3.  0. -1.]\n"
     ]
    }
   ],
   "source": [
    "# floor\n",
    "#returns the lower interger ,removing decimal\n",
    "\n",
    "a = np.array([-2.4,2.4,2.5,3.9,0.2,-0.9])\n",
    "print(np.floor(a))"
   ]
  },
  {
   "cell_type": "code",
   "execution_count": 61,
   "id": "f49c59b6",
   "metadata": {},
   "outputs": [
    {
     "name": "stdout",
     "output_type": "stream",
     "text": [
      "[-2.  3.  3.  4.  1. -0.]\n"
     ]
    }
   ],
   "source": [
    "# ceil\n",
    "# returns the uper integer , removing the decimal\n",
    "\n",
    "print(np.ceil(a))"
   ]
  },
  {
   "cell_type": "markdown",
   "id": "c2c53174",
   "metadata": {},
   "source": [
    "**Arithmetic Functions**"
   ]
  },
  {
   "cell_type": "code",
   "execution_count": 65,
   "id": "030b92de",
   "metadata": {},
   "outputs": [
    {
     "name": "stdout",
     "output_type": "stream",
     "text": [
      "First array:      \n",
      " [[0. 1. 2.]\n",
      " [3. 4. 5.]\n",
      " [6. 7. 8.]]\n",
      "Second array:     \n",
      " [10 10 10]\n",
      "Addition:         \n",
      " [[10. 11. 12.]\n",
      " [13. 14. 15.]\n",
      " [16. 17. 18.]]\n",
      "Subtraction:      \n",
      " [[-10.  -9.  -8.]\n",
      " [ -7.  -6.  -5.]\n",
      " [ -4.  -3.  -2.]]\n",
      "Division:         \n",
      " [[0.  0.1 0.2]\n",
      " [0.3 0.4 0.5]\n",
      " [0.6 0.7 0.8]]\n",
      "Multiplication:   \n",
      " [[ 0. 10. 20.]\n",
      " [30. 40. 50.]\n",
      " [60. 70. 80.]]\n"
     ]
    },
    {
     "name": "stderr",
     "output_type": "stream",
     "text": [
      "C:\\Users\\malik bros\\AppData\\Local\\Temp\\ipykernel_11160\\149024086.py:3: DeprecationWarning: `np.float` is a deprecated alias for the builtin `float`. To silence this warning, use `float` by itself. Doing this will not modify any behavior and is safe. If you specifically wanted the numpy scalar type, use `np.float64` here.\n",
      "Deprecated in NumPy 1.20; for more details and guidance: https://numpy.org/devdocs/release/1.20.0-notes.html#deprecations\n",
      "  a = np.arange(9,dtype=np.float).reshape(3,3)\n"
     ]
    }
   ],
   "source": [
    "# add,suntract,multiply,divide\n",
    "\n",
    "a = np.arange(9,dtype=np.float).reshape(3,3)\n",
    "b = np.array([10,10,10])\n",
    "print('First array:     ','\\n',a)\n",
    "print('Second array:    ','\\n',b)\n",
    "print('Addition:        ','\\n',np.add(a,b))\n",
    "print('Subtraction:     ','\\n',np.subtract(a,b))\n",
    "print('Division:        ','\\n',np.divide(a,b))\n",
    "print('Multiplication:  ','\\n',np.multiply(a,b))"
   ]
  },
  {
   "cell_type": "code",
   "execution_count": 66,
   "id": "4f0b586d",
   "metadata": {},
   "outputs": [
    {
     "name": "stdout",
     "output_type": "stream",
     "text": [
      "First array:     [  0.  20.  40.  60.  80. 100.]\n",
      "Reciprocal is:   [       inf 0.05       0.025      0.01666667 0.0125     0.01      ]\n",
      "\n",
      "\n",
      "2nd array:       [100]\n",
      "Reciprocal is:   [0]\n"
     ]
    },
    {
     "name": "stderr",
     "output_type": "stream",
     "text": [
      "C:\\Users\\malik bros\\AppData\\Local\\Temp\\ipykernel_11160\\3876055013.py:7: RuntimeWarning: divide by zero encountered in reciprocal\n",
      "  print('Reciprocal is:  ',np.reciprocal(a))\n"
     ]
    }
   ],
   "source": [
    "# reciprocal\n",
    "\n",
    "a = np.linspace(0,100,6)\n",
    "b = np.array([100],dtype=int)\n",
    "\n",
    "print('First array:    ',a)\n",
    "print('Reciprocal is:  ',np.reciprocal(a))\n",
    "print('\\n')\n",
    "print('2nd array:      ',b)\n",
    "print('Reciprocal is:  ',np.reciprocal(b))"
   ]
  },
  {
   "cell_type": "code",
   "execution_count": 68,
   "id": "e2c45494",
   "metadata": {},
   "outputs": [
    {
     "name": "stdout",
     "output_type": "stream",
     "text": [
      "First array:     [  10  100 1000]\n",
      "\n",
      "\n",
      "2nd array:       [3 2 1]\n",
      "Result is:       [ 1000 10000  1000]\n"
     ]
    }
   ],
   "source": [
    "a = np.array([10,100,1000])\n",
    "b = np.array([3,2,1])\n",
    "print('First array:    ',a)\n",
    "\n",
    "print('\\n')\n",
    "print('2nd array:      ',b)\n",
    "print('Result is:      ',np.power(a,b))"
   ]
  },
  {
   "cell_type": "code",
   "execution_count": 71,
   "id": "aaa3635c",
   "metadata": {},
   "outputs": [
    {
     "name": "stdout",
     "output_type": "stream",
     "text": [
      "mod is:        [1 0 0]\n",
      "reminder is:   [1 0 0]\n"
     ]
    }
   ],
   "source": [
    "print('mod is:       ',np.mod(a,b))\n",
    "print('reminder is:  ',np.remainder(a,b))\n",
    "      \n",
    "      "
   ]
  },
  {
   "cell_type": "code",
   "execution_count": 72,
   "id": "15d3f024",
   "metadata": {},
   "outputs": [
    {
     "name": "stdout",
     "output_type": "stream",
     "text": [
      "Array is:      [-0.-5.6j  0.+0.2j 11.+0.j   1.+1.j ]\n",
      "Real values:   [-0.  0. 11.  1.]\n",
      "Imaginary:     [-5.6  0.2  0.   1. ]\n",
      "Conjugate:     [-0.+5.6j  0.-0.2j 11.-0.j   1.-1.j ]\n",
      "Angles:        [-1.57079633  1.57079633  0.          0.78539816]\n",
      "Angles in d:   [-90.  90.   0.  45.]\n"
     ]
    }
   ],
   "source": [
    "a = np.array([-5.6j,0.2j,11.,1+1j])\n",
    "print('Array is:     ',a)\n",
    "print('Real values:  ',np.real(a))\n",
    "print('Imaginary:    ',np.imag(a))\n",
    "print('Conjugate:    ',np.conj(a))\n",
    "print('Angles:       ',np.angle(a))\n",
    "print('Angles in d:  ',np.angle(a,deg=True))"
   ]
  },
  {
   "cell_type": "markdown",
   "id": "4d71c3b9",
   "metadata": {},
   "source": [
    "**Statistical Functions**"
   ]
  },
  {
   "cell_type": "code",
   "execution_count": 75,
   "id": "75093ce9",
   "metadata": {},
   "outputs": [
    {
     "name": "stdout",
     "output_type": "stream",
     "text": [
      "MyArray:        \n",
      " [[2 3 6]\n",
      " [6 5 8]\n",
      " [1 6 9]]\n",
      "Min in rows:    [2 5 1]\n",
      "Min in cols:    [1 3 6]\n",
      "Max in rows:    [6 8 9]\n",
      "Max in cols:    [6 6 9]\n"
     ]
    }
   ],
   "source": [
    "# amin , amax\n",
    "\n",
    "a = np.array([[2,3,6],[6,5,8],[1,6,9]]).reshape(3,3)\n",
    "print('MyArray:       ','\\n',a)\n",
    "print('Min in rows:   ',np.amin(a,1))\n",
    "print('Min in cols:   ',np.amin(a,0))\n",
    "print('Max in rows:   ',np.amax(a,1))\n",
    "print('Max in cols:   ',np.amax(a,0))"
   ]
  },
  {
   "cell_type": "code",
   "execution_count": 76,
   "id": "27045b29",
   "metadata": {},
   "outputs": [
    {
     "name": "stdout",
     "output_type": "stream",
     "text": [
      "8\n",
      "[5 3 3]\n",
      "[4 3 8]\n"
     ]
    }
   ],
   "source": [
    "# ptp peak to peak\n",
    "\n",
    "print(np.ptp(a))\n",
    "print(np.ptp(a,0))\n",
    "print(np.ptp(a,1))"
   ]
  },
  {
   "cell_type": "code",
   "execution_count": 4,
   "id": "977099c2",
   "metadata": {},
   "outputs": [
    {
     "name": "stdout",
     "output_type": "stream",
     "text": [
      "My array:           [[30 40 70]\n",
      " [80 20 10]\n",
      " [50 90 60]]\n",
      "Percentile is:      50.0\n",
      "Percentile is:      [40. 20. 60.]\n",
      "Percentile is:      [50. 40. 60.]\n",
      "Percentile is:      34.0\n",
      "Percentile is:      [40. 20. 60.]\n",
      "Percentile is:      [50. 40. 60.]\n"
     ]
    }
   ],
   "source": [
    "import numpy as np\n",
    "\n",
    "# percentile\n",
    "\n",
    "a = np.array([[30,40,70],[80,20,10],[50,90,60]])\n",
    "print('My array:          ',a)\n",
    "print('Percentile is:     ',np.percentile(a,50))\n",
    "print('Percentile is:     ',np.percentile(a,50,axis=1))\n",
    "print('Percentile is:     ',np.percentile(a,50,axis=0))\n",
    "print('Percentile is:     ',np.percentile(a,30))\n",
    "print('Percentile is:     ',np.percentile(a,50,axis=1))\n",
    "print('Percentile is:     ',np.percentile(a,50,axis=0))"
   ]
  },
  {
   "cell_type": "code",
   "execution_count": 5,
   "id": "1cdb18d1",
   "metadata": {},
   "outputs": [
    {
     "name": "stdout",
     "output_type": "stream",
     "text": [
      "median is:      50.0\n",
      "median is:      [50. 40. 60.]\n",
      "median is:      [40. 20. 60.]\n"
     ]
    }
   ],
   "source": [
    "#median\n",
    "print('median is:     ',np.median(a))\n",
    "print('median is:     ',np.median(a,axis=0))\n",
    "print('median is:     ',np.median(a,axis=1))"
   ]
  },
  {
   "cell_type": "code",
   "execution_count": 6,
   "id": "e4605038",
   "metadata": {},
   "outputs": [
    {
     "name": "stdout",
     "output_type": "stream",
     "text": [
      "mean is:      50.0\n",
      "mean is:      [53.33333333 50.         46.66666667]\n",
      "mean is:      [46.66666667 36.66666667 66.66666667]\n"
     ]
    }
   ],
   "source": [
    "print('mean is:     ',np.mean(a))\n",
    "print('mean is:     ',np.mean(a,axis=0))\n",
    "print('mean is:     ',np.mean(a,axis=1))"
   ]
  },
  {
   "cell_type": "code",
   "execution_count": 7,
   "id": "c3a91b13",
   "metadata": {},
   "outputs": [
    {
     "name": "stdout",
     "output_type": "stream",
     "text": [
      "average is:      50.0\n",
      "average is:      [53.33333333 50.         46.66666667]\n",
      "average is:      [46.66666667 36.66666667 66.66666667]\n"
     ]
    }
   ],
   "source": [
    "#average\n",
    "\n",
    "print('average is:     ',np.average(a))\n",
    "print('average is:     ',np.average(a,axis=0))\n",
    "print('average is:     ',np.average(a,axis=1))"
   ]
  },
  {
   "cell_type": "code",
   "execution_count": 8,
   "id": "b6ce6502",
   "metadata": {},
   "outputs": [
    {
     "name": "stdout",
     "output_type": "stream",
     "text": [
      "SD is:      25.81988897471611\n",
      "SD is:      25.81988897471611\n"
     ]
    }
   ],
   "source": [
    "#standard deviation\n",
    "\n",
    "print('SD is:     ',np.std(a))\n",
    "print('SD is:     ',np.std(a))"
   ]
  },
  {
   "cell_type": "code",
   "execution_count": 9,
   "id": "bff373a0",
   "metadata": {},
   "outputs": [
    {
     "name": "stdout",
     "output_type": "stream",
     "text": [
      "variance is:      666.6666666666666\n"
     ]
    }
   ],
   "source": [
    "print('variance is:     ',np.var(a))"
   ]
  },
  {
   "cell_type": "markdown",
   "id": "4f64b1c9",
   "metadata": {},
   "source": [
    "**Sort,search and counting**"
   ]
  },
  {
   "cell_type": "code",
   "execution_count": 11,
   "id": "28acb35f",
   "metadata": {},
   "outputs": [
    {
     "name": "stdout",
     "output_type": "stream",
     "text": [
      "My array is:               \n",
      " [[30 40 70]\n",
      " [80 20 10]\n",
      " [50 90 60]]\n",
      "Sorted array:              \n",
      " [[30 40 70]\n",
      " [10 20 80]\n",
      " [50 60 90]]\n",
      "Sorted array with col:     \n",
      " [[30 20 10]\n",
      " [50 40 60]\n",
      " [80 90 70]]\n",
      "Sorted array with row:     \n",
      " [[30 40 70]\n",
      " [10 20 80]\n",
      " [50 60 90]]\n"
     ]
    }
   ],
   "source": [
    "#sort\n",
    "\n",
    "print('My array is:              ','\\n',a)\n",
    "print('Sorted array:             ','\\n',np.sort(a))\n",
    "print('Sorted array with col:    ','\\n',np.sort(a,axis=0))\n",
    "print('Sorted array with row:    ','\\n',np.sort(a,axis=1))"
   ]
  },
  {
   "cell_type": "code",
   "execution_count": 12,
   "id": "0bc17e78",
   "metadata": {},
   "outputs": [
    {
     "name": "stdout",
     "output_type": "stream",
     "text": [
      "My array is:               \n",
      " [[30 40 70]\n",
      " [80 20 10]\n",
      " [50 90 60]]\n",
      "Sorted array:              \n",
      " [[0 1 2]\n",
      " [2 1 0]\n",
      " [0 2 1]]\n",
      "Sorted array:              \n",
      " [[0 1 1]\n",
      " [2 0 2]\n",
      " [1 2 0]]\n",
      "Sorted array:              \n",
      " [[0 1 2]\n",
      " [2 1 0]\n",
      " [0 2 1]]\n"
     ]
    }
   ],
   "source": [
    "#agrsort    #represents the indexes\n",
    "\n",
    "print('My array is:              ','\\n',a)\n",
    "print('Sorted array:             ','\\n',np.argsort(a))\n",
    "print('Sorted array:             ','\\n',np.argsort(a,axis=0))\n",
    "print('Sorted array:             ','\\n',np.argsort(a,axis=1))\n"
   ]
  },
  {
   "cell_type": "code",
   "execution_count": 13,
   "id": "3141ad27",
   "metadata": {},
   "outputs": [
    {
     "name": "stdout",
     "output_type": "stream",
     "text": [
      "My array is:            \n",
      " [[30 40 70]\n",
      " [80 20 10]\n",
      " [50 90 60]]\n",
      "Max array:              \n",
      " 7\n",
      "Max col:                \n",
      " [1 2 0]\n",
      "Max row:                \n",
      " [2 0 1]\n"
     ]
    }
   ],
   "source": [
    "# argma,argmin ,represents indexs\n",
    "\n",
    "print('My array is:           ','\\n',a)\n",
    "print('Max array:             ','\\n',np.argmax(a))\n",
    "print('Max col:               ','\\n',np.argmax(a,axis=0))\n",
    "print('Max row:               ','\\n',np.argmax(a,axis=1))"
   ]
  },
  {
   "cell_type": "code",
   "execution_count": 16,
   "id": "24b9ec4e",
   "metadata": {},
   "outputs": [
    {
     "name": "stdout",
     "output_type": "stream",
     "text": [
      "My array is:            \n",
      " [[30 40 70]\n",
      " [80 20 10]\n",
      " [50 90 60]]\n",
      "MIN array:              \n",
      " 5\n",
      "MIN col:                \n",
      " [0 1 1]\n",
      "MIN row:                \n",
      " [0 2 0]\n"
     ]
    }
   ],
   "source": [
    "#ARGMIN\n",
    "\n",
    "print('My array is:           ','\\n',a)\n",
    "print('MIN array:             ','\\n',np.argmin(a))\n",
    "print('MIN col:               ','\\n',np.argmin(a,axis=0))\n",
    "print('MIN row:               ','\\n',np.argmin(a,axis=1))"
   ]
  },
  {
   "cell_type": "code",
   "execution_count": 17,
   "id": "600c78df",
   "metadata": {},
   "outputs": [
    {
     "name": "stdout",
     "output_type": "stream",
     "text": [
      "My array is:            \n",
      " [[30 40 70]\n",
      " [80 20 10]\n",
      " [50 90 60]]\n",
      "nonzero array:          \n",
      " (array([0, 0, 0, 1, 1, 1, 2, 2, 2], dtype=int64), array([0, 1, 2, 0, 1, 2, 0, 1, 2], dtype=int64))\n"
     ]
    }
   ],
   "source": [
    "# nonzero\n",
    "\n",
    "print('My array is:           ','\\n',a)\n",
    "print('nonzero array:         ','\\n',np.nonzero(a))"
   ]
  },
  {
   "cell_type": "code",
   "execution_count": 18,
   "id": "f50ddfb3",
   "metadata": {},
   "outputs": [
    {
     "name": "stdout",
     "output_type": "stream",
     "text": [
      "My array is:            \n",
      " [[30 40 70]\n",
      " [80 20 10]\n",
      " [50 90 60]]\n",
      "where a>50:              \n",
      " (array([0, 1, 2, 2], dtype=int64), array([2, 0, 1, 2], dtype=int64))\n"
     ]
    }
   ],
   "source": [
    "#where\n",
    "\n",
    "print('My array is:           ','\\n',a)\n",
    "print('where a>50:             ','\\n',np.where(a>50))"
   ]
  },
  {
   "cell_type": "markdown",
   "id": "838fe28c",
   "metadata": {},
   "source": [
    "# Numpy_Matplotlib"
   ]
  },
  {
   "cell_type": "code",
   "execution_count": 38,
   "id": "eab6f11d",
   "metadata": {},
   "outputs": [],
   "source": [
    "import matplotlib.pyplot as plt\n"
   ]
  },
  {
   "cell_type": "code",
   "execution_count": 42,
   "id": "bff2cd83",
   "metadata": {},
   "outputs": [
    {
     "data": {
      "image/png": "[encoded data removed]",
      "text/plain": [
       "<Figure size 640x480 with 1 Axes>"
      ]
     },
     "metadata": {},
     "output_type": "display_data"
    }
   ],
   "source": [
    "x = np.arange(1,11)\n",
    "y = 2*x + 5\n",
    "\n",
    "plt.xlabel(\"xaxis\")\n",
    "plt.ylabel(\"yaxis\")\n",
    "\n",
    "\n",
    "plt.plot(x,y)\n",
    "plt.show()"
   ]
  },
  {
   "cell_type": "code",
   "execution_count": 43,
   "id": "f8791024",
   "metadata": {},
   "outputs": [
    {
     "data": {
      "image/png": "[encoded data removed]",
      "text/plain": [
       "<Figure size 640x480 with 1 Axes>"
      ]
     },
     "metadata": {},
     "output_type": "display_data"
    }
   ],
   "source": [
    "plt.plot(x,y,'o')\n",
    "plt.show()"
   ]
  },
  {
   "cell_type": "code",
   "execution_count": 44,
   "id": "21796116",
   "metadata": {},
   "outputs": [
    {
     "data": {
      "image/png": "[encoded data removed]",
      "text/plain": [
       "<Figure size 640x480 with 1 Axes>"
      ]
     },
     "metadata": {},
     "output_type": "display_data"
    }
   ],
   "source": [
    "plt.plot(x,y,'>')\n",
    "plt.show()"
   ]
  },
  {
   "cell_type": "code",
   "execution_count": 46,
   "id": "28da28de",
   "metadata": {},
   "outputs": [
    {
     "data": {
      "image/png": "[encoded data removed]",
      "text/plain": [
       "<Figure size 640x480 with 1 Axes>"
      ]
     },
     "metadata": {},
     "output_type": "display_data"
    }
   ],
   "source": [
    "plt.plot(x,y,'4')\n",
    "plt.show()"
   ]
  },
  {
   "cell_type": "code",
   "execution_count": 47,
   "id": "457f59ac",
   "metadata": {},
   "outputs": [
    {
     "data": {
      "image/png": "[encoded data removed]",
      "text/plain": [
       "<Figure size 640x480 with 1 Axes>"
      ]
     },
     "metadata": {},
     "output_type": "display_data"
    }
   ],
   "source": [
    "plt.plot(x,y,'D')\n",
    "plt.show()"
   ]
  },
  {
   "cell_type": "code",
   "execution_count": 52,
   "id": "5ac86d45",
   "metadata": {},
   "outputs": [
    {
     "data": {
      "image/png": "[encoded data removed]",
      "text/plain": [
       "<Figure size 640x480 with 1 Axes>"
      ]
     },
     "metadata": {},
     "output_type": "display_data"
    }
   ],
   "source": [
    "#sin wave plot\n",
    "\n",
    "x = np.arange(0,3*np.pi,0.1) #start ,end, difference\n",
    "y = np.sin(x)\n",
    "\n",
    "plt.plot(x,y)\n",
    "plt.show()\n"
   ]
  },
  {
   "cell_type": "code",
   "execution_count": 56,
   "id": "be055fc5",
   "metadata": {},
   "outputs": [
    {
     "data": {
      "image/png": "[encoded data removed]",
      "text/plain": [
       "<Figure size 640x480 with 2 Axes>"
      ]
     },
     "metadata": {},
     "output_type": "display_data"
    }
   ],
   "source": [
    "#SUBPLOT\n",
    "\n",
    "from matplotlib import pyplot as plt\n",
    "y_cos = np.cos(x)\n",
    "plt.subplot(2,1,1)\n",
    "\n",
    "plt.plot(x,y)\n",
    "plt.subplot(2,1,2)\n",
    "plt.plot(x,y_cos)\n",
    "plt.show()"
   ]
  },
  {
   "cell_type": "code",
   "execution_count": 57,
   "id": "e503e3d3",
   "metadata": {},
   "outputs": [
    {
     "data": {
      "text/plain": [
       "<BarContainer object of 4 artists>"
      ]
     },
     "execution_count": 57,
     "metadata": {},
     "output_type": "execute_result"
    },
    {
     "data": {
      "image/png": "[encoded data removed]",
      "text/plain": [
       "<Figure size 640x480 with 1 Axes>"
      ]
     },
     "metadata": {},
     "output_type": "display_data"
    }
   ],
   "source": [
    "#bar\n",
    "\n",
    "x = [2,4,4,6]\n",
    "y = [5,2,8,0]\n",
    "plt.bar(x,y)"
   ]
  },
  {
   "cell_type": "markdown",
   "id": "9980e90c",
   "metadata": {},
   "source": [
    "**Histrogram using matplotlib**"
   ]
  },
  {
   "cell_type": "code",
   "execution_count": 58,
   "id": "15acb9ef",
   "metadata": {},
   "outputs": [
    {
     "data": {
      "image/png": "[encoded data removed]",
      "text/plain": [
       "<Figure size 640x480 with 1 Axes>"
      ]
     },
     "metadata": {},
     "output_type": "display_data"
    }
   ],
   "source": [
    "a = [22,33,4,5,67,90,22,55,45,84,83,24,86,24,88,5,99]\n",
    "plt.hist(a,bins=[0,20,40,60,80,100])\n",
    "plt.show()"
   ]
  },
  {
   "cell_type": "code",
   "execution_count": 60,
   "id": "11f2df12",
   "metadata": {},
   "outputs": [],
   "source": [
    "#input output with numpy\n",
    "\n",
    "a = np.array([2,3,4,7,84,3])\n",
    "np.save('outfile',a)\n"
   ]
  },
  {
   "cell_type": "code",
   "execution_count": 62,
   "id": "a3840ac5",
   "metadata": {},
   "outputs": [
    {
     "name": "stdout",
     "output_type": "stream",
     "text": [
      "[ 2  3  4  7 84  3]\n"
     ]
    }
   ],
   "source": [
    "b = np.load('outfile.npy')\n",
    "print(b)"
   ]
  },
  {
   "cell_type": "code",
   "execution_count": 63,
   "id": "3d176afd",
   "metadata": {},
   "outputs": [
    {
     "name": "stdout",
     "output_type": "stream",
     "text": [
      "[ 2.  3.  4.  7. 84.  3.]\n"
     ]
    }
   ],
   "source": [
    "# save text\n",
    "\n",
    "np.savetxt('out.txt',a)\n",
    "b = np.loadtxt('out.txt')\n",
    "print(b)"
   ]
  }
 ],
 "metadata": {
  "kernelspec": {
   "display_name": "Python 3 (ipykernel)",
   "language": "python",
   "name": "python3"
  },
  "language_info": {
   "codemirror_mode": {
    "name": "ipython",
    "version": 3
   },
   "file_extension": ".py",
   "mimetype": "text/x-python",
   "name": "python",
   "nbconvert_exporter": "python",
   "pygments_lexer": "ipython3",
   "version": "3.9.13"
  }
 },
 "nbformat": 4,
 "nbformat_minor": 5
}
