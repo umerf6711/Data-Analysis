{
 "cells": [
  {
   "cell_type": "markdown",
   "id": "aab6bb20",
   "metadata": {},
   "source": [
    "# Pandas Data Structures"
   ]
  },
  {
   "cell_type": "markdown",
   "id": "9daeb134",
   "metadata": {},
   "source": [
    "*1. Series 2. DataFrame 3.Panel*"
   ]
  },
  {
   "cell_type": "markdown",
   "id": "e9caac35",
   "metadata": {},
   "source": [
    "**Series**"
   ]
  },
  {
   "cell_type": "code",
   "execution_count": 1,
   "id": "e2471eea",
   "metadata": {},
   "outputs": [
    {
     "name": "stdout",
     "output_type": "stream",
     "text": [
      "Series([], dtype: float64)\n"
     ]
    },
    {
     "name": "stderr",
     "output_type": "stream",
     "text": [
      "C:\\Users\\malik bros\\AppData\\Local\\Temp\\ipykernel_15004\\3144726892.py:6: FutureWarning: The default dtype for empty Series will be 'object' instead of 'float64' in a future version. Specify a dtype explicitly to silence this warning.\n",
      "  a = pd.Series()\n"
     ]
    }
   ],
   "source": [
    "# empty series\n",
    "\n",
    "import pandas as pd\n",
    "import numpy as np\n",
    "\n",
    "a = pd.Series()\n",
    "print(a)"
   ]
  },
  {
   "cell_type": "code",
   "execution_count": 2,
   "id": "52b93c80",
   "metadata": {},
   "outputs": [
    {
     "name": "stdout",
     "output_type": "stream",
     "text": [
      "0     1\n",
      "1     2\n",
      "2    34\n",
      "3    33\n",
      "dtype: int32\n"
     ]
    }
   ],
   "source": [
    "# with ndarray\n",
    "\n",
    "a = np.array([1,2,34,33])\n",
    "Sers = pd.Series(a)\n",
    "print(Sers)"
   ]
  },
  {
   "cell_type": "code",
   "execution_count": 3,
   "id": "5a238be2",
   "metadata": {},
   "outputs": [
    {
     "name": "stdout",
     "output_type": "stream",
     "text": [
      "100     1\n",
      "101     2\n",
      "102    34\n",
      "103    33\n",
      "dtype: int32\n"
     ]
    }
   ],
   "source": [
    "# we can set index of our own desire, above it was default\n",
    "\n",
    "s = pd.Series(a,index=[100,101,102,103])\n",
    "print(s)"
   ]
  },
  {
   "cell_type": "code",
   "execution_count": 4,
   "id": "49c34c29",
   "metadata": {},
   "outputs": [
    {
     "name": "stdout",
     "output_type": "stream",
     "text": [
      "a    1\n",
      "b    2\n",
      "c    3\n",
      "dtype: int64\n"
     ]
    }
   ],
   "source": [
    "# with dictionary\n",
    "\n",
    "dic = {'a':1,'b':2,'c':3}\n",
    "s = pd.Series(dic)\n",
    "print(s)"
   ]
  },
  {
   "cell_type": "code",
   "execution_count": 5,
   "id": "21283477",
   "metadata": {},
   "outputs": [
    {
     "name": "stdout",
     "output_type": "stream",
     "text": [
      "b    2.0\n",
      "c    3.0\n",
      "d    NaN\n",
      "a    1.0\n",
      "dtype: float64\n"
     ]
    }
   ],
   "source": [
    "#less data more index\n",
    "\n",
    "s = pd.Series(dic,index=['b','c','d','a'])\n",
    "print(s)"
   ]
  },
  {
   "cell_type": "code",
   "execution_count": 6,
   "id": "98d1766e",
   "metadata": {},
   "outputs": [
    {
     "name": "stdout",
     "output_type": "stream",
     "text": [
      "0    5\n",
      "1    5\n",
      "2    5\n",
      "3    5\n",
      "dtype: int64\n"
     ]
    }
   ],
   "source": [
    "#with scaler\n",
    "\n",
    "s = pd.Series(5,index=[0,1,2,3])\n",
    "print(s)"
   ]
  },
  {
   "cell_type": "code",
   "execution_count": 7,
   "id": "551dae25",
   "metadata": {},
   "outputs": [
    {
     "name": "stdout",
     "output_type": "stream",
     "text": [
      "a    1\n",
      "b    2\n",
      "c    3\n",
      "d    5\n",
      "dtype: int64\n",
      "\n",
      "\n",
      "3\n"
     ]
    }
   ],
   "source": [
    "#access data from series\n",
    "\n",
    "s = pd.Series([1,2,3,5],index=['a','b','c','d'])\n",
    "print(s)\n",
    "print('\\n')\n",
    "print(s[2])"
   ]
  },
  {
   "cell_type": "code",
   "execution_count": 8,
   "id": "b8c89173",
   "metadata": {},
   "outputs": [
    {
     "name": "stdout",
     "output_type": "stream",
     "text": [
      "a    1\n",
      "b    2\n",
      "dtype: int64\n"
     ]
    }
   ],
   "source": [
    "#first two\n",
    "\n",
    "print(s[:2])"
   ]
  },
  {
   "cell_type": "code",
   "execution_count": 9,
   "id": "89e7746d",
   "metadata": {},
   "outputs": [
    {
     "name": "stdout",
     "output_type": "stream",
     "text": [
      "c    3\n",
      "d    5\n",
      "dtype: int64\n"
     ]
    }
   ],
   "source": [
    "#last two\n",
    "\n",
    "print(s[-2:])"
   ]
  },
  {
   "cell_type": "code",
   "execution_count": 10,
   "id": "52e7b477",
   "metadata": {},
   "outputs": [
    {
     "name": "stdout",
     "output_type": "stream",
     "text": [
      "1\n"
     ]
    }
   ],
   "source": [
    "#retrieve data using label index\n",
    "\n",
    "print(s['a'])"
   ]
  },
  {
   "cell_type": "code",
   "execution_count": 11,
   "id": "3ed53b88",
   "metadata": {},
   "outputs": [
    {
     "name": "stdout",
     "output_type": "stream",
     "text": [
      "a    1\n",
      "c    3\n",
      "dtype: int64\n"
     ]
    }
   ],
   "source": [
    "print(s[['a','c']])"
   ]
  },
  {
   "cell_type": "markdown",
   "id": "3216fee0",
   "metadata": {},
   "source": [
    "**Pandas DataFrame**"
   ]
  },
  {
   "cell_type": "code",
   "execution_count": 12,
   "id": "97551550",
   "metadata": {},
   "outputs": [
    {
     "name": "stdout",
     "output_type": "stream",
     "text": [
      "Empty DataFrame\n",
      "Columns: []\n",
      "Index: []\n"
     ]
    }
   ],
   "source": [
    "#empty df\n",
    "\n",
    "df = pd.DataFrame()\n",
    "print(df)"
   ]
  },
  {
   "cell_type": "code",
   "execution_count": 13,
   "id": "c7b6d093",
   "metadata": {},
   "outputs": [
    {
     "name": "stdout",
     "output_type": "stream",
     "text": [
      "    0\n",
      "0   1\n",
      "1   2\n",
      "2  34\n",
      "3   5\n",
      "4   6\n"
     ]
    }
   ],
   "source": [
    "#from lists\n",
    "\n",
    "a = [1,2,34,5,6]\n",
    "df = pd.DataFrame(a)\n",
    "print(df)"
   ]
  },
  {
   "cell_type": "code",
   "execution_count": 14,
   "id": "28ca2ac3",
   "metadata": {},
   "outputs": [
    {
     "name": "stdout",
     "output_type": "stream",
     "text": [
      "    NAME   AGE\n",
      "0    Ali  10.0\n",
      "1   Umer  12.0\n",
      "2  Ahmad  22.0\n"
     ]
    },
    {
     "name": "stderr",
     "output_type": "stream",
     "text": [
      "C:\\Users\\malik bros\\AppData\\Local\\Temp\\ipykernel_15004\\346554160.py:2: FutureWarning: Could not cast to float64, falling back to object. This behavior is deprecated. In a future version, when a dtype is passed to 'DataFrame', either all columns will be cast to that dtype, or a TypeError will be raised.\n",
      "  df = pd.DataFrame(data,columns=['NAME','AGE'],dtype=float)\n"
     ]
    }
   ],
   "source": [
    "data = [('Ali',10),('Umer',12),('Ahmad',22)]\n",
    "df = pd.DataFrame(data,columns=['NAME','AGE'],dtype=float)\n",
    "print(df)"
   ]
  },
  {
   "cell_type": "code",
   "execution_count": 15,
   "id": "9773ff4b",
   "metadata": {},
   "outputs": [
    {
     "name": "stdout",
     "output_type": "stream",
     "text": [
      "        NAME  AGE\n",
      "Rank1    Ali   10\n",
      "Rank2  Ahmad   12\n",
      "Rank3   Umer   33\n"
     ]
    }
   ],
   "source": [
    "#from dict\n",
    "\n",
    "data = {'NAME':['Ali','Ahmad','Umer'],'AGE':[10,12,33]}\n",
    "df = pd.DataFrame(data,index=['Rank1','Rank2','Rank3'])\n",
    "print(df)"
   ]
  },
  {
   "cell_type": "code",
   "execution_count": 16,
   "id": "c8d8c567",
   "metadata": {},
   "outputs": [
    {
     "name": "stdout",
     "output_type": "stream",
     "text": [
      "     a  b     c\n",
      "1st  1  2   NaN\n",
      "2nd  2  4  33.0\n"
     ]
    }
   ],
   "source": [
    "#from list of dict\n",
    "\n",
    "data = [{\"a\":1,'b':2},{'a':2,'b':4,'c':33}]\n",
    "df = pd.DataFrame(data,index=['1st','2nd'])\n",
    "print(df)"
   ]
  },
  {
   "cell_type": "code",
   "execution_count": 17,
   "id": "f0bf3649",
   "metadata": {},
   "outputs": [
    {
     "name": "stdout",
     "output_type": "stream",
     "text": [
      "   one  two\n",
      "a    1  3.0\n",
      "b    2  5.0\n",
      "c    3  6.0\n",
      "d    4  NaN\n"
     ]
    }
   ],
   "source": [
    "#from dict of series\n",
    "\n",
    "data = {'one':pd.Series([1,2,3,4],index=['a','b','c','d']),'two': pd.Series([3,5,6],index=['a','b','c'])}\n",
    "df = pd.DataFrame(data)\n",
    "print(df)"
   ]
  },
  {
   "cell_type": "code",
   "execution_count": 18,
   "id": "5f6d7471",
   "metadata": {},
   "outputs": [
    {
     "name": "stdout",
     "output_type": "stream",
     "text": [
      "a    1\n",
      "b    2\n",
      "c    3\n",
      "d    4\n",
      "Name: one, dtype: int64\n"
     ]
    }
   ],
   "source": [
    "#column selection\n",
    "\n",
    "print(df['one'])"
   ]
  },
  {
   "cell_type": "code",
   "execution_count": 19,
   "id": "72e7ab6a",
   "metadata": {},
   "outputs": [
    {
     "name": "stdout",
     "output_type": "stream",
     "text": [
      "   one  two  three\n",
      "a    1  3.0     11\n",
      "b    2  5.0     23\n",
      "c    3  6.0     44\n",
      "d    4  NaN      5\n"
     ]
    }
   ],
   "source": [
    "#column addition\n",
    "\n",
    "df['three'] = pd.Series([11,23,44,5],index=['a','b','c','d'])\n",
    "print(df)"
   ]
  },
  {
   "cell_type": "code",
   "execution_count": 20,
   "id": "70347794",
   "metadata": {},
   "outputs": [
    {
     "name": "stdout",
     "output_type": "stream",
     "text": [
      "   one  three\n",
      "a    1     11\n",
      "b    2     23\n",
      "c    3     44\n",
      "d    4      5\n"
     ]
    }
   ],
   "source": [
    "#col deletion\n",
    "\n",
    "del df['two']\n",
    "print(df)"
   ]
  },
  {
   "cell_type": "code",
   "execution_count": 21,
   "id": "27e56c00",
   "metadata": {},
   "outputs": [
    {
     "name": "stdout",
     "output_type": "stream",
     "text": [
      "   three\n",
      "a     11\n",
      "b     23\n",
      "c     44\n",
      "d      5\n"
     ]
    }
   ],
   "source": [
    "#deletion using pop\n",
    "\n",
    "df.pop('one')\n",
    "print(df)"
   ]
  },
  {
   "cell_type": "code",
   "execution_count": 22,
   "id": "7ede8c80",
   "metadata": {},
   "outputs": [
    {
     "name": "stdout",
     "output_type": "stream",
     "text": [
      "   one  two\n",
      "a    1  3.0\n",
      "b    2  5.0\n",
      "c    3  6.0\n",
      "d    4  NaN\n",
      "one    2.0\n",
      "two    5.0\n",
      "Name: b, dtype: float64\n"
     ]
    }
   ],
   "source": [
    "#row selection using label\n",
    "\n",
    "data = {'one':pd.Series([1,2,3,4],index=['a','b','c','d']),'two': pd.Series([3,5,6],index=['a','b','c'])}\n",
    "df = pd.DataFrame(data)\n",
    "print(df)\n",
    "print(df.loc['b'])"
   ]
  },
  {
   "cell_type": "code",
   "execution_count": 23,
   "id": "3a1f090e",
   "metadata": {},
   "outputs": [
    {
     "name": "stdout",
     "output_type": "stream",
     "text": [
      "one    3.0\n",
      "two    6.0\n",
      "Name: c, dtype: float64\n"
     ]
    }
   ],
   "source": [
    "#using index\n",
    "\n",
    "print(df.iloc[2])"
   ]
  },
  {
   "cell_type": "code",
   "execution_count": 24,
   "id": "0e7f606e",
   "metadata": {},
   "outputs": [
    {
     "name": "stdout",
     "output_type": "stream",
     "text": [
      "   one  two\n",
      "c    3  6.0\n",
      "d    4  NaN\n"
     ]
    }
   ],
   "source": [
    "#more than one row u\n",
    "\n",
    "print(df.iloc[2:4])\n"
   ]
  },
  {
   "cell_type": "code",
   "execution_count": 25,
   "id": "bc76092b",
   "metadata": {},
   "outputs": [
    {
     "name": "stdout",
     "output_type": "stream",
     "text": [
      "   one   two\n",
      "a    1   3.0\n",
      "b    2   5.0\n",
      "c    3   6.0\n",
      "d    4   NaN\n",
      "e   40  44.0\n"
     ]
    },
    {
     "name": "stderr",
     "output_type": "stream",
     "text": [
      "C:\\Users\\malik bros\\AppData\\Local\\Temp\\ipykernel_15004\\1511040503.py:4: FutureWarning: The frame.append method is deprecated and will be removed from pandas in a future version. Use pandas.concat instead.\n",
      "  df = df.append(df1)\n"
     ]
    }
   ],
   "source": [
    "# addition of row\n",
    "\n",
    "df1 = pd.DataFrame([[40,44]],columns=['one','two'] ,index=['e'])\n",
    "df = df.append(df1)\n",
    "print(df)"
   ]
  },
  {
   "cell_type": "code",
   "execution_count": 26,
   "id": "9b060e25",
   "metadata": {},
   "outputs": [
    {
     "name": "stdout",
     "output_type": "stream",
     "text": [
      "   one   two\n",
      "a    1   3.0\n",
      "b    2   5.0\n",
      "c    3   6.0\n",
      "d    4   NaN\n",
      "e   40  44.0\n",
      "   one  two\n",
      "a    1  3.0\n",
      "b    2  5.0\n",
      "c    3  6.0\n",
      "d    4  NaN\n"
     ]
    }
   ],
   "source": [
    "#deletion row\n",
    "\n",
    "print(df)\n",
    "df = df.drop(['e'])\n",
    "print(df)"
   ]
  },
  {
   "cell_type": "markdown",
   "id": "690e1fe6",
   "metadata": {},
   "source": [
    "# pandas Basic functionalirty"
   ]
  },
  {
   "cell_type": "markdown",
   "id": "c7d2d69a",
   "metadata": {},
   "source": [
    "**Series basic functionality**"
   ]
  },
  {
   "cell_type": "code",
   "execution_count": 27,
   "id": "a5340b46",
   "metadata": {},
   "outputs": [],
   "source": [
    "import pandas as pd\n",
    "import numpy as np\n",
    "\n"
   ]
  },
  {
   "cell_type": "code",
   "execution_count": 28,
   "id": "12af679c",
   "metadata": {},
   "outputs": [
    {
     "name": "stdout",
     "output_type": "stream",
     "text": [
      "0    0.599389\n",
      "1    0.582014\n",
      "2    0.944255\n",
      "3    0.373864\n",
      "dtype: float64\n"
     ]
    }
   ],
   "source": [
    "s = pd.Series(np.random.rand(4))\n",
    "print(s)"
   ]
  },
  {
   "cell_type": "code",
   "execution_count": 29,
   "id": "e3333686",
   "metadata": {},
   "outputs": [
    {
     "name": "stdout",
     "output_type": "stream",
     "text": [
      "[RangeIndex(start=0, stop=4, step=1)]\n"
     ]
    }
   ],
   "source": [
    "# axes\n",
    "\n",
    "print(s.axes)"
   ]
  },
  {
   "cell_type": "code",
   "execution_count": 30,
   "id": "c773b40c",
   "metadata": {},
   "outputs": [
    {
     "name": "stdout",
     "output_type": "stream",
     "text": [
      "False\n"
     ]
    }
   ],
   "source": [
    "# empty\n",
    "\n",
    "print(s.empty)"
   ]
  },
  {
   "cell_type": "code",
   "execution_count": 31,
   "id": "d114fa73",
   "metadata": {},
   "outputs": [
    {
     "name": "stdout",
     "output_type": "stream",
     "text": [
      "1\n"
     ]
    }
   ],
   "source": [
    "#ndim\n",
    "\n",
    "print(s.ndim)"
   ]
  },
  {
   "cell_type": "code",
   "execution_count": 32,
   "id": "eccfe6e7",
   "metadata": {},
   "outputs": [
    {
     "name": "stdout",
     "output_type": "stream",
     "text": [
      "4\n"
     ]
    }
   ],
   "source": [
    "#size\n",
    "\n",
    "print(s.size)"
   ]
  },
  {
   "cell_type": "code",
   "execution_count": 33,
   "id": "44c49b8a",
   "metadata": {},
   "outputs": [
    {
     "name": "stdout",
     "output_type": "stream",
     "text": [
      "[0.59938864 0.58201362 0.94425468 0.3738635 ]\n"
     ]
    }
   ],
   "source": [
    "#values\n",
    "\n",
    "print(s.values)\n"
   ]
  },
  {
   "cell_type": "code",
   "execution_count": 34,
   "id": "705ca58f",
   "metadata": {},
   "outputs": [
    {
     "name": "stdout",
     "output_type": "stream",
     "text": [
      "0    0.599389\n",
      "1    0.582014\n",
      "dtype: float64\n"
     ]
    }
   ],
   "source": [
    "#head\n",
    "\n",
    "print(s.head(2))"
   ]
  },
  {
   "cell_type": "code",
   "execution_count": 35,
   "id": "e322d5d2",
   "metadata": {},
   "outputs": [
    {
     "name": "stdout",
     "output_type": "stream",
     "text": [
      "2    0.944255\n",
      "3    0.373864\n",
      "dtype: float64\n"
     ]
    }
   ],
   "source": [
    "#tail\n",
    "\n",
    "print(s.tail(2))"
   ]
  },
  {
   "cell_type": "markdown",
   "id": "e6b13b5d",
   "metadata": {},
   "source": [
    "**DataFrame basic functionality**"
   ]
  },
  {
   "cell_type": "code",
   "execution_count": 36,
   "id": "23136ad0",
   "metadata": {},
   "outputs": [
    {
     "name": "stdout",
     "output_type": "stream",
     "text": [
      "   one  two\n",
      "a    1  3.0\n",
      "b    2  5.0\n",
      "c    3  6.0\n",
      "d    4  NaN\n"
     ]
    }
   ],
   "source": [
    "data = {'one':pd.Series([1,2,3,4],index=['a','b','c','d']),'two': pd.Series([3,5,6],index=['a','b','c'])}\n",
    "df = pd.DataFrame(data)\n",
    "print(df)"
   ]
  },
  {
   "cell_type": "code",
   "execution_count": 37,
   "id": "3bc6896f",
   "metadata": {},
   "outputs": [
    {
     "name": "stdout",
     "output_type": "stream",
     "text": [
      "       a    b    c    d\n",
      "one  1.0  2.0  3.0  4.0\n",
      "two  3.0  5.0  6.0  NaN\n"
     ]
    }
   ],
   "source": [
    "#T\n",
    "\n",
    "print(df.T)"
   ]
  },
  {
   "cell_type": "code",
   "execution_count": 38,
   "id": "f635d1ab",
   "metadata": {},
   "outputs": [
    {
     "name": "stdout",
     "output_type": "stream",
     "text": [
      "[Index(['a', 'b', 'c', 'd'], dtype='object'), Index(['one', 'two'], dtype='object')]\n"
     ]
    }
   ],
   "source": [
    "#axes\n",
    "\n",
    "print(df.axes)"
   ]
  },
  {
   "cell_type": "code",
   "execution_count": 39,
   "id": "f6b8c884",
   "metadata": {},
   "outputs": [
    {
     "name": "stdout",
     "output_type": "stream",
     "text": [
      "one      int64\n",
      "two    float64\n",
      "dtype: object\n"
     ]
    }
   ],
   "source": [
    "#dtype\n",
    "\n",
    "print(df.dtypes)"
   ]
  },
  {
   "cell_type": "code",
   "execution_count": 40,
   "id": "ac0ba828",
   "metadata": {},
   "outputs": [
    {
     "name": "stdout",
     "output_type": "stream",
     "text": [
      "False\n"
     ]
    }
   ],
   "source": [
    "#empty\n",
    "\n",
    "print(df.empty)"
   ]
  },
  {
   "cell_type": "code",
   "execution_count": 41,
   "id": "02faac54",
   "metadata": {},
   "outputs": [
    {
     "name": "stdout",
     "output_type": "stream",
     "text": [
      "2\n"
     ]
    }
   ],
   "source": [
    "#ndim\n",
    "\n",
    "print(df.ndim)"
   ]
  },
  {
   "cell_type": "code",
   "execution_count": 42,
   "id": "b2eb5de5",
   "metadata": {},
   "outputs": [
    {
     "name": "stdout",
     "output_type": "stream",
     "text": [
      "(4, 2)\n"
     ]
    }
   ],
   "source": [
    "#shape\n",
    "\n",
    "print(df.shape)"
   ]
  },
  {
   "cell_type": "code",
   "execution_count": 43,
   "id": "2656878f",
   "metadata": {},
   "outputs": [
    {
     "name": "stdout",
     "output_type": "stream",
     "text": [
      "8\n"
     ]
    }
   ],
   "source": [
    "#size\n",
    "\n",
    "print(df.size)"
   ]
  },
  {
   "cell_type": "code",
   "execution_count": 44,
   "id": "c990c81e",
   "metadata": {},
   "outputs": [
    {
     "name": "stdout",
     "output_type": "stream",
     "text": [
      "[[ 1.  3.]\n",
      " [ 2.  5.]\n",
      " [ 3.  6.]\n",
      " [ 4. nan]]\n"
     ]
    }
   ],
   "source": [
    "#values\n",
    "\n",
    "print(df.values)"
   ]
  },
  {
   "cell_type": "code",
   "execution_count": 45,
   "id": "0fb98983",
   "metadata": {},
   "outputs": [
    {
     "name": "stdout",
     "output_type": "stream",
     "text": [
      "   one  two\n",
      "a    1  3.0\n",
      "b    2  5.0\n",
      "   one  two\n",
      "c    3  6.0\n",
      "d    4  NaN\n"
     ]
    }
   ],
   "source": [
    "# head,tail\n",
    "\n",
    "print(df.head(2))\n",
    "print(df.tail(2))"
   ]
  },
  {
   "cell_type": "markdown",
   "id": "63a3e736",
   "metadata": {},
   "source": [
    "# Descriptive Statistics"
   ]
  },
  {
   "cell_type": "code",
   "execution_count": 46,
   "id": "b97c5ed1",
   "metadata": {},
   "outputs": [
    {
     "name": "stdout",
     "output_type": "stream",
     "text": [
      "     NAME  AGE  RATING\n",
      "0     ali   12    22.3\n",
      "1    umer   34    44.2\n",
      "2   usman   13     3.3\n",
      "3   ahmad   15    44.3\n",
      "4  hassan   16    44.5\n",
      "5    adil   23     5.2\n",
      "6  arslan   26    23.5\n",
      "7   hazma   22    20.0\n",
      "8    zain   16    56.0\n"
     ]
    }
   ],
   "source": [
    "d = {'NAME':['ali','umer','usman','ahmad','hassan','adil','arslan','hazma','zain'],\n",
    "    'AGE':[12,34,13,15,16,23,26,22,16],'RATING':[22.3,44.2,3.3,44.3,44.5,5.2,23.5,20,56]}\n",
    "df = pd.DataFrame(d)\n",
    "print(df)"
   ]
  },
  {
   "cell_type": "code",
   "execution_count": 47,
   "id": "590c6970",
   "metadata": {},
   "outputs": [
    {
     "name": "stdout",
     "output_type": "stream",
     "text": [
      "NAME      aliumerusmanahmadhassanadilarslanhazmazain\n",
      "AGE                                              177\n",
      "RATING                                         263.3\n",
      "dtype: object\n"
     ]
    }
   ],
   "source": [
    "#sum\n",
    "\n",
    "print(df.sum())"
   ]
  },
  {
   "cell_type": "code",
   "execution_count": 48,
   "id": "0e3a60b3",
   "metadata": {},
   "outputs": [
    {
     "name": "stdout",
     "output_type": "stream",
     "text": [
      "0    34.3\n",
      "1    78.2\n",
      "2    16.3\n",
      "3    59.3\n",
      "4    60.5\n",
      "5    28.2\n",
      "6    49.5\n",
      "7    42.0\n",
      "8    72.0\n",
      "dtype: float64\n"
     ]
    },
    {
     "name": "stderr",
     "output_type": "stream",
     "text": [
      "C:\\Users\\malik bros\\AppData\\Local\\Temp\\ipykernel_15004\\1741035731.py:3: FutureWarning: Dropping of nuisance columns in DataFrame reductions (with 'numeric_only=None') is deprecated; in a future version this will raise TypeError.  Select only valid columns before calling the reduction.\n",
      "  print(df.sum(1))\n"
     ]
    }
   ],
   "source": [
    "#col sum\n",
    "\n",
    "print(df.sum(1))"
   ]
  },
  {
   "cell_type": "code",
   "execution_count": 49,
   "id": "97dd4613",
   "metadata": {},
   "outputs": [
    {
     "name": "stdout",
     "output_type": "stream",
     "text": [
      "AGE       19.666667\n",
      "RATING    29.255556\n",
      "dtype: float64\n"
     ]
    },
    {
     "name": "stderr",
     "output_type": "stream",
     "text": [
      "C:\\Users\\malik bros\\AppData\\Local\\Temp\\ipykernel_15004\\4110975546.py:2: FutureWarning: Dropping of nuisance columns in DataFrame reductions (with 'numeric_only=None') is deprecated; in a future version this will raise TypeError.  Select only valid columns before calling the reduction.\n",
      "  print(df.mean())\n"
     ]
    }
   ],
   "source": [
    "#mean\n",
    "print(df.mean())"
   ]
  },
  {
   "cell_type": "code",
   "execution_count": 50,
   "id": "4d43d9eb",
   "metadata": {},
   "outputs": [
    {
     "name": "stdout",
     "output_type": "stream",
     "text": [
      "AGE        7.193747\n",
      "RATING    18.764535\n",
      "dtype: float64\n"
     ]
    },
    {
     "name": "stderr",
     "output_type": "stream",
     "text": [
      "C:\\Users\\malik bros\\AppData\\Local\\Temp\\ipykernel_15004\\2312206230.py:2: FutureWarning: Dropping of nuisance columns in DataFrame reductions (with 'numeric_only=None') is deprecated; in a future version this will raise TypeError.  Select only valid columns before calling the reduction.\n",
      "  print(df.std())\n"
     ]
    }
   ],
   "source": [
    "#std\n",
    "print(df.std())"
   ]
  },
  {
   "cell_type": "code",
   "execution_count": 51,
   "id": "78c911b2",
   "metadata": {},
   "outputs": [
    {
     "name": "stdout",
     "output_type": "stream",
     "text": [
      "             AGE     RATING\n",
      "count   9.000000   9.000000\n",
      "mean   19.666667  29.255556\n",
      "std     7.193747  18.764535\n",
      "min    12.000000   3.300000\n",
      "25%    15.000000  20.000000\n",
      "50%    16.000000  23.500000\n",
      "75%    23.000000  44.300000\n",
      "max    34.000000  56.000000\n"
     ]
    }
   ],
   "source": [
    "# describe\n",
    "\n",
    "print(df.describe())"
   ]
  },
  {
   "cell_type": "code",
   "execution_count": 52,
   "id": "07ff1469",
   "metadata": {},
   "outputs": [
    {
     "name": "stdout",
     "output_type": "stream",
     "text": [
      "       NAME\n",
      "count     9\n",
      "unique    9\n",
      "top     ali\n",
      "freq      1\n"
     ]
    }
   ],
   "source": [
    "#Column describe\n",
    "\n",
    "print(df.describe(include=['object']))"
   ]
  },
  {
   "cell_type": "code",
   "execution_count": 53,
   "id": "3aca0871",
   "metadata": {},
   "outputs": [
    {
     "name": "stdout",
     "output_type": "stream",
     "text": [
      "       NAME        AGE     RATING\n",
      "count     9   9.000000   9.000000\n",
      "unique    9        NaN        NaN\n",
      "top     ali        NaN        NaN\n",
      "freq      1        NaN        NaN\n",
      "mean    NaN  19.666667  29.255556\n",
      "std     NaN   7.193747  18.764535\n",
      "min     NaN  12.000000   3.300000\n",
      "25%     NaN  15.000000  20.000000\n",
      "50%     NaN  16.000000  23.500000\n",
      "75%     NaN  23.000000  44.300000\n",
      "max     NaN  34.000000  56.000000\n"
     ]
    }
   ],
   "source": [
    "print(df.describe(include='all'))"
   ]
  },
  {
   "cell_type": "markdown",
   "id": "1cc6b394",
   "metadata": {},
   "source": [
    "# Function application"
   ]
  },
  {
   "cell_type": "markdown",
   "id": "7edd2407",
   "metadata": {},
   "source": [
    "*pipe(): to add in complete data. apply(): add column or row wise. applymap(): add element wise.*"
   ]
  },
  {
   "cell_type": "code",
   "execution_count": 54,
   "id": "082bf65e",
   "metadata": {},
   "outputs": [
    {
     "name": "stdout",
     "output_type": "stream",
     "text": [
      "       col1      col2      col3\n",
      "0  2.000000  2.071429  2.142857\n",
      "1  2.214286  2.285714  2.357143\n",
      "2  2.428571  2.500000  2.571429\n",
      "3  2.642857  2.714286  2.785714\n",
      "4  2.857143  2.928571  3.000000\n"
     ]
    }
   ],
   "source": [
    "#pipe()\n",
    "\n",
    "def adder(x,y):\n",
    "    return x+y\n",
    "df = pd.DataFrame(np.linspace(0,1,15).reshape(5,3),columns=['col1','col2','col3'])\n",
    "df.pipe(adder,2)\n",
    "print(df.pipe(adder,2))"
   ]
  },
  {
   "cell_type": "code",
   "execution_count": 55,
   "id": "edda6876",
   "metadata": {},
   "outputs": [
    {
     "name": "stdout",
     "output_type": "stream",
     "text": [
      "col1    0.428571\n",
      "col2    0.500000\n",
      "col3    0.571429\n",
      "dtype: float64\n"
     ]
    }
   ],
   "source": [
    "#apply\n",
    "\n",
    "df.apply(np.mean,axis=1)\n",
    "print(df.apply(np.mean))"
   ]
  },
  {
   "cell_type": "code",
   "execution_count": 56,
   "id": "4ca4ba6e",
   "metadata": {},
   "outputs": [
    {
     "name": "stdout",
     "output_type": "stream",
     "text": [
      "0     0.000000\n",
      "1    21.428571\n",
      "2    42.857143\n",
      "3    64.285714\n",
      "4    85.714286\n",
      "Name: col1, dtype: float64\n"
     ]
    }
   ],
   "source": [
    "#map()\n",
    "\n",
    "r=df['col1'].map(lambda x:x*100)\n",
    "print(r)"
   ]
  },
  {
   "cell_type": "markdown",
   "id": "ace11545",
   "metadata": {},
   "source": [
    "# Pandas Reindexing and iteration"
   ]
  },
  {
   "cell_type": "markdown",
   "id": "610ce057",
   "metadata": {},
   "source": [
    "**Reindexing**"
   ]
  },
  {
   "cell_type": "code",
   "execution_count": 57,
   "id": "2ec7d36a",
   "metadata": {},
   "outputs": [
    {
     "name": "stdout",
     "output_type": "stream",
     "text": [
      "     NAME  AGE  RATING\n",
      "A     ali   12    22.3\n",
      "B    umer   34    44.2\n",
      "C   usman   13     3.3\n",
      "D   ahmad   15    44.3\n",
      "E  hassan   16    44.5\n",
      "F    adil   23     5.2\n",
      "G  arslan   26    23.5\n",
      "H   hazma   22    20.0\n",
      "I    zain   16    56.0\n"
     ]
    }
   ],
   "source": [
    "d = {'NAME':['ali','umer','usman','ahmad','hassan','adil','arslan','hazma','zain'],\n",
    "    'AGE':[12,34,13,15,16,23,26,22,16],'RATING':[22.3,44.2,3.3,44.3,44.5,5.2,23.5,20,56]}\n",
    "df = pd.DataFrame(d,index=['A','B','C','D','E','F','G','H','I'])\n",
    "print(df)\n"
   ]
  },
  {
   "cell_type": "code",
   "execution_count": 58,
   "id": "f580d13f",
   "metadata": {},
   "outputs": [
    {
     "name": "stdout",
     "output_type": "stream",
     "text": [
      "    NAME  AGE  RATING\n",
      "C  usman   13     3.3\n",
      "D  ahmad   15    44.3\n",
      "A    ali   12    22.3\n"
     ]
    }
   ],
   "source": [
    "df_reind = df.reindex(['C','D','A'])\n",
    "print(df_reind)"
   ]
  },
  {
   "cell_type": "code",
   "execution_count": 59,
   "id": "d4f5b771",
   "metadata": {},
   "outputs": [
    {
     "name": "stdout",
     "output_type": "stream",
     "text": [
      "    NAME  AGE  RATING\n",
      "C  usman   13     3.3\n",
      "D  ahmad   15    44.3\n",
      "A    ali   12    22.3\n"
     ]
    }
   ],
   "source": [
    "#aline with others\n",
    "\n",
    "df1 = df\n",
    "df1 = df1.reindex_like(df_reind)\n",
    "print(df1)"
   ]
  },
  {
   "cell_type": "code",
   "execution_count": 60,
   "id": "f2d6b87f",
   "metadata": {},
   "outputs": [
    {
     "name": "stdout",
     "output_type": "stream",
     "text": [
      "   AGE  RATING\n",
      "A   12    22.3\n",
      "B   34    44.2\n",
      "C   13     3.3\n",
      "D   15    44.3\n",
      "E   16    44.5\n",
      "F   23     5.2\n",
      "G   26    23.5\n",
      "H   22    20.0\n",
      "I   16    56.0\n"
     ]
    }
   ],
   "source": [
    "col2 = df.iloc[:,1:]\n",
    "print(col2)\n"
   ]
  },
  {
   "cell_type": "code",
   "execution_count": 61,
   "id": "1dd46fde",
   "metadata": {},
   "outputs": [
    {
     "name": "stdout",
     "output_type": "stream",
     "text": [
      "   AGE  RATING\n",
      "C   13     3.3\n",
      "D   15    44.3\n",
      "A   12    22.3\n",
      "B   34    44.2\n"
     ]
    }
   ],
   "source": [
    "col_re = col2.reindex(['C','D','A','B'])\n",
    "print(col_re)"
   ]
  },
  {
   "cell_type": "code",
   "execution_count": 62,
   "id": "976e0707",
   "metadata": {},
   "outputs": [
    {
     "name": "stdout",
     "output_type": "stream",
     "text": [
      "    NAME  AGE  RATING\n",
      "0    ali   12    22.3\n",
      "1   umer   34    44.2\n",
      "2  usman   13     3.3\n",
      "3  ahmad   15    44.3\n",
      "4  ahmad   15    44.3\n",
      "5  ahmad   15    44.3\n",
      "6  ahmad   15    44.3\n",
      "7  ahmad   15    44.3\n",
      "8  ahmad   15    44.3\n"
     ]
    }
   ],
   "source": [
    "#filling while reindexing\n",
    "\n",
    "d = {'NAME':['ali','umer','usman','ahmad','hassan','adil','arslan','hazma','zain'],\n",
    "    'AGE':[12,34,13,15,16,23,26,22,16],'RATING':[22.3,44.2,3.3,44.3,44.5,5.2,23.5,20,56]}\n",
    "df = pd.DataFrame(d)\n",
    "\n",
    "re = df.reindex([0,1,2,3])\n",
    "print(re.reindex_like(df,method='ffill'))\n"
   ]
  },
  {
   "cell_type": "code",
   "execution_count": 63,
   "id": "2168974f",
   "metadata": {},
   "outputs": [
    {
     "name": "stdout",
     "output_type": "stream",
     "text": [
      "    NAME   AGE  RATING\n",
      "0    ali  12.0    22.3\n",
      "1   umer  34.0    44.2\n",
      "2  usman  13.0     3.3\n",
      "3  ahmad  15.0    44.3\n",
      "4  ahmad  15.0    44.3\n",
      "5  ahmad  15.0    44.3\n",
      "6    NaN   NaN     NaN\n",
      "7    NaN   NaN     NaN\n",
      "8    NaN   NaN     NaN\n"
     ]
    }
   ],
   "source": [
    "#limit\n",
    "\n",
    "print(re.reindex_like(df,method='ffill',limit=2))"
   ]
  },
  {
   "cell_type": "code",
   "execution_count": 64,
   "id": "f43f2ec4",
   "metadata": {},
   "outputs": [
    {
     "name": "stdout",
     "output_type": "stream",
     "text": [
      "     col1  col2  RATING\n",
      "A     ali    12    22.3\n",
      "1    umer    34    44.2\n",
      "B   usman    13     3.3\n",
      "3   ahmad    15    44.3\n",
      "4  hassan    16    44.5\n",
      "5    adil    23     5.2\n",
      "6  arslan    26    23.5\n",
      "7   hazma    22    20.0\n",
      "8    zain    16    56.0\n"
     ]
    }
   ],
   "source": [
    "# remane\n",
    "\n",
    "print(df.rename(columns={'NAME':'col1','AGE':'col2'},index={0:'A',2:'B'}))\n"
   ]
  },
  {
   "cell_type": "markdown",
   "id": "452a2bd5",
   "metadata": {},
   "source": [
    "**Iteration a dataframe**"
   ]
  },
  {
   "cell_type": "code",
   "execution_count": 65,
   "id": "1f2ef45f",
   "metadata": {},
   "outputs": [
    {
     "name": "stdout",
     "output_type": "stream",
     "text": [
      "     NAME  AGE  RATING\n",
      "0     ali   12    22.3\n",
      "1    umer   34    44.2\n",
      "2   usman   13     3.3\n",
      "3   ahmad   15    44.3\n",
      "4  hassan   16    44.5\n",
      "5    adil   23     5.2\n",
      "6  arslan   26    23.5\n",
      "7   hazma   22    20.0\n",
      "8    zain   16    56.0\n"
     ]
    }
   ],
   "source": [
    "print(df)"
   ]
  },
  {
   "cell_type": "code",
   "execution_count": 66,
   "id": "3d80f87e",
   "metadata": {},
   "outputs": [
    {
     "name": "stdout",
     "output_type": "stream",
     "text": [
      "NAME\n",
      "AGE\n",
      "RATING\n"
     ]
    }
   ],
   "source": [
    "for col in df:\n",
    "    print(col)"
   ]
  },
  {
   "cell_type": "code",
   "execution_count": 67,
   "id": "f53ca888",
   "metadata": {},
   "outputs": [
    {
     "name": "stdout",
     "output_type": "stream",
     "text": [
      "('NAME', 0       ali\n",
      "1      umer\n",
      "2     usman\n",
      "3     ahmad\n",
      "4    hassan\n",
      "5      adil\n",
      "6    arslan\n",
      "7     hazma\n",
      "8      zain\n",
      "Name: NAME, dtype: object)\n",
      "('AGE', 0    12\n",
      "1    34\n",
      "2    13\n",
      "3    15\n",
      "4    16\n",
      "5    23\n",
      "6    26\n",
      "7    22\n",
      "8    16\n",
      "Name: AGE, dtype: int64)\n",
      "('RATING', 0    22.3\n",
      "1    44.2\n",
      "2     3.3\n",
      "3    44.3\n",
      "4    44.5\n",
      "5     5.2\n",
      "6    23.5\n",
      "7    20.0\n",
      "8    56.0\n",
      "Name: RATING, dtype: float64)\n"
     ]
    }
   ],
   "source": [
    "#iteritems\n",
    "\n",
    "for col in df.iteritems():\n",
    "    print(col)"
   ]
  },
  {
   "cell_type": "code",
   "execution_count": 68,
   "id": "9127884a",
   "metadata": {},
   "outputs": [
    {
     "name": "stdout",
     "output_type": "stream",
     "text": [
      "0 NAME       ali\n",
      "AGE         12\n",
      "RATING    22.3\n",
      "Name: 0, dtype: object\n",
      "1 NAME      umer\n",
      "AGE         34\n",
      "RATING    44.2\n",
      "Name: 1, dtype: object\n",
      "2 NAME      usman\n",
      "AGE          13\n",
      "RATING      3.3\n",
      "Name: 2, dtype: object\n",
      "3 NAME      ahmad\n",
      "AGE          15\n",
      "RATING     44.3\n",
      "Name: 3, dtype: object\n",
      "4 NAME      hassan\n",
      "AGE           16\n",
      "RATING      44.5\n",
      "Name: 4, dtype: object\n",
      "5 NAME      adil\n",
      "AGE         23\n",
      "RATING     5.2\n",
      "Name: 5, dtype: object\n",
      "6 NAME      arslan\n",
      "AGE           26\n",
      "RATING      23.5\n",
      "Name: 6, dtype: object\n",
      "7 NAME      hazma\n",
      "AGE          22\n",
      "RATING     20.0\n",
      "Name: 7, dtype: object\n",
      "8 NAME      zain\n",
      "AGE         16\n",
      "RATING    56.0\n",
      "Name: 8, dtype: object\n"
     ]
    }
   ],
   "source": [
    "#iterrows\n",
    "\n",
    "for row,row_index in df.iterrows():\n",
    "    print(row,row_index)"
   ]
  },
  {
   "cell_type": "code",
   "execution_count": 69,
   "id": "f4af617f",
   "metadata": {},
   "outputs": [
    {
     "name": "stdout",
     "output_type": "stream",
     "text": [
      "Pandas(Index=0, NAME='ali', AGE=12, RATING=22.3)\n",
      "Pandas(Index=1, NAME='umer', AGE=34, RATING=44.2)\n",
      "Pandas(Index=2, NAME='usman', AGE=13, RATING=3.3)\n",
      "Pandas(Index=3, NAME='ahmad', AGE=15, RATING=44.3)\n",
      "Pandas(Index=4, NAME='hassan', AGE=16, RATING=44.5)\n",
      "Pandas(Index=5, NAME='adil', AGE=23, RATING=5.2)\n",
      "Pandas(Index=6, NAME='arslan', AGE=26, RATING=23.5)\n",
      "Pandas(Index=7, NAME='hazma', AGE=22, RATING=20.0)\n",
      "Pandas(Index=8, NAME='zain', AGE=16, RATING=56.0)\n"
     ]
    }
   ],
   "source": [
    "#itertuples\n",
    "\n",
    "for i in df.itertuples():\n",
    "    print(i)"
   ]
  },
  {
   "cell_type": "markdown",
   "id": "07c98047",
   "metadata": {},
   "source": [
    "# pandas sorting"
   ]
  },
  {
   "cell_type": "code",
   "execution_count": 70,
   "id": "78167bd4",
   "metadata": {},
   "outputs": [
    {
     "name": "stdout",
     "output_type": "stream",
     "text": [
      "       col2      col1\n",
      "1  0.526404  0.233675\n",
      "4  0.403605  0.447219\n",
      "8  0.086198  0.715939\n",
      "2  0.742804  0.580109\n",
      "5  0.606230  0.127653\n",
      "9  0.116861  0.412436\n",
      "3  0.118984  0.229349\n",
      "7  0.044095  0.093569\n",
      "0  0.065018  0.987020\n",
      "6  0.840915  0.848999\n"
     ]
    }
   ],
   "source": [
    "df = pd.DataFrame(np.random.rand(10,2),index=[1,4,8,2,5,9,3,7,0,6],columns=['col2','col1'])\n",
    "print(df)\n"
   ]
  },
  {
   "cell_type": "markdown",
   "id": "716191ea",
   "metadata": {},
   "source": [
    "**By label**"
   ]
  },
  {
   "cell_type": "code",
   "execution_count": 71,
   "id": "1923e3ac",
   "metadata": {},
   "outputs": [
    {
     "name": "stdout",
     "output_type": "stream",
     "text": [
      "       col2      col1\n",
      "0  0.065018  0.987020\n",
      "1  0.526404  0.233675\n",
      "2  0.742804  0.580109\n",
      "3  0.118984  0.229349\n",
      "4  0.403605  0.447219\n",
      "5  0.606230  0.127653\n",
      "6  0.840915  0.848999\n",
      "7  0.044095  0.093569\n",
      "8  0.086198  0.715939\n",
      "9  0.116861  0.412436\n"
     ]
    }
   ],
   "source": [
    "#sort_index(),by default ascending\n",
    "\n",
    "print(df.sort_index())"
   ]
  },
  {
   "cell_type": "code",
   "execution_count": 72,
   "id": "6288d89d",
   "metadata": {},
   "outputs": [
    {
     "name": "stdout",
     "output_type": "stream",
     "text": [
      "       col2      col1\n",
      "9  0.116861  0.412436\n",
      "8  0.086198  0.715939\n",
      "7  0.044095  0.093569\n",
      "6  0.840915  0.848999\n",
      "5  0.606230  0.127653\n",
      "4  0.403605  0.447219\n",
      "3  0.118984  0.229349\n",
      "2  0.742804  0.580109\n",
      "1  0.526404  0.233675\n",
      "0  0.065018  0.987020\n"
     ]
    }
   ],
   "source": [
    "#order of sorting\n",
    "\n",
    "print(df.sort_index(ascending=False))"
   ]
  },
  {
   "cell_type": "code",
   "execution_count": 73,
   "id": "4a5cb721",
   "metadata": {},
   "outputs": [
    {
     "name": "stdout",
     "output_type": "stream",
     "text": [
      "       col1      col2\n",
      "1  0.233675  0.526404\n",
      "4  0.447219  0.403605\n",
      "8  0.715939  0.086198\n",
      "2  0.580109  0.742804\n",
      "5  0.127653  0.606230\n",
      "9  0.412436  0.116861\n",
      "3  0.229349  0.118984\n",
      "7  0.093569  0.044095\n",
      "0  0.987020  0.065018\n",
      "6  0.848999  0.840915\n"
     ]
    }
   ],
   "source": [
    "#sort the columns\n",
    "\n",
    "print(df.sort_index(axis=1)) #bydefault it is 0 as for rows"
   ]
  },
  {
   "cell_type": "markdown",
   "id": "4b6f1389",
   "metadata": {},
   "source": [
    "**By value**"
   ]
  },
  {
   "cell_type": "code",
   "execution_count": 74,
   "id": "4ef6cd60",
   "metadata": {},
   "outputs": [
    {
     "name": "stdout",
     "output_type": "stream",
     "text": [
      "       col2      col1\n",
      "7  0.044095  0.093569\n",
      "5  0.606230  0.127653\n",
      "3  0.118984  0.229349\n",
      "1  0.526404  0.233675\n",
      "9  0.116861  0.412436\n",
      "4  0.403605  0.447219\n",
      "2  0.742804  0.580109\n",
      "8  0.086198  0.715939\n",
      "6  0.840915  0.848999\n",
      "0  0.065018  0.987020\n"
     ]
    }
   ],
   "source": [
    "print(df.sort_values(by='col1'))"
   ]
  },
  {
   "cell_type": "markdown",
   "id": "a23b3073",
   "metadata": {},
   "source": [
    "# Working with text Data"
   ]
  },
  {
   "cell_type": "markdown",
   "id": "ccbf785b",
   "metadata": {},
   "source": [
    "**1st on Series** "
   ]
  },
  {
   "cell_type": "code",
   "execution_count": 75,
   "id": "7038921b",
   "metadata": {},
   "outputs": [
    {
     "name": "stdout",
     "output_type": "stream",
     "text": [
      "0        TOM\n",
      "1      JERRY\n",
      "2      MOTTO\n",
      "3      PATLO\n",
      "4    albert@\n",
      "5       1224\n",
      "6     np.nan\n",
      "7       UMER\n",
      "dtype: object\n"
     ]
    }
   ],
   "source": [
    "s = pd.Series(['TOM','JERRY','MOTTO','PATLO','albert@','1224','np.nan','UMER'])\n",
    "print(s)"
   ]
  },
  {
   "cell_type": "code",
   "execution_count": 76,
   "id": "86cbc184",
   "metadata": {},
   "outputs": [
    {
     "name": "stdout",
     "output_type": "stream",
     "text": [
      "0        tom\n",
      "1      jerry\n",
      "2      motto\n",
      "3      patlo\n",
      "4    albert@\n",
      "5       1224\n",
      "6     np.nan\n",
      "7       umer\n",
      "dtype: object\n"
     ]
    }
   ],
   "source": [
    "#lower()\n",
    "\n",
    "print(s.str.lower())"
   ]
  },
  {
   "cell_type": "code",
   "execution_count": 77,
   "id": "89ff95f0",
   "metadata": {},
   "outputs": [
    {
     "name": "stdout",
     "output_type": "stream",
     "text": [
      "0        TOM\n",
      "1      JERRY\n",
      "2      MOTTO\n",
      "3      PATLO\n",
      "4    ALBERT@\n",
      "5       1224\n",
      "6     NP.NAN\n",
      "7       UMER\n",
      "dtype: object\n"
     ]
    }
   ],
   "source": [
    "#upper()\n",
    "\n",
    "print(s.str.upper())"
   ]
  },
  {
   "cell_type": "code",
   "execution_count": 78,
   "id": "8ba9696f",
   "metadata": {},
   "outputs": [
    {
     "name": "stdout",
     "output_type": "stream",
     "text": [
      "0        TOM\n",
      "1      JERRY\n",
      "2      MOTTO\n",
      "3      PATLO\n",
      "4    albert@\n",
      "5       1224\n",
      "6     np.nan\n",
      "7       UMER\n",
      "dtype: object\n"
     ]
    }
   ],
   "source": [
    "#strip()\n",
    "\n",
    "print(s.str.strip())"
   ]
  },
  {
   "cell_type": "code",
   "execution_count": 79,
   "id": "2b9c9f30",
   "metadata": {},
   "outputs": [
    {
     "name": "stdout",
     "output_type": "stream",
     "text": [
      "0                [, T, O, M, ]\n",
      "1          [, J, E, R, R, Y, ]\n",
      "2          [, M, O, T, T, O, ]\n",
      "3          [, P, A, T, L, O, ]\n",
      "4    [, a, l, b, e, r, t, @, ]\n",
      "5             [, 1, 2, 2, 4, ]\n",
      "6       [, n, p, ., n, a, n, ]\n",
      "7             [, U, M, E, R, ]\n",
      "dtype: object\n"
     ]
    }
   ],
   "source": [
    "#split(pattern)\n",
    "\n",
    "print(s.str.split(''))"
   ]
  },
  {
   "cell_type": "code",
   "execution_count": 80,
   "id": "2dc1d85b",
   "metadata": {},
   "outputs": [
    {
     "name": "stdout",
     "output_type": "stream",
     "text": [
      "TOM_JERRY_MOTTO_PATLO_albert@_1224_np.nan_UMER\n"
     ]
    }
   ],
   "source": [
    "#cat(sep=)\n",
    "\n",
    "print(s.str.cat(sep='_'))"
   ]
  },
  {
   "cell_type": "code",
   "execution_count": 81,
   "id": "47359bb6",
   "metadata": {},
   "outputs": [
    {
     "name": "stdout",
     "output_type": "stream",
     "text": [
      "   1224  JERRY  MOTTO  PATLO  TOM  UMER  albert@  np.nan\n",
      "0     0      0      0      0    1     0        0       0\n",
      "1     0      1      0      0    0     0        0       0\n",
      "2     0      0      1      0    0     0        0       0\n",
      "3     0      0      0      1    0     0        0       0\n",
      "4     0      0      0      0    0     0        1       0\n",
      "5     1      0      0      0    0     0        0       0\n",
      "6     0      0      0      0    0     0        0       1\n",
      "7     0      0      0      0    0     1        0       0\n"
     ]
    }
   ],
   "source": [
    "#get_dummies()\n",
    "\n",
    "print(s.str.get_dummies())"
   ]
  },
  {
   "cell_type": "code",
   "execution_count": 82,
   "id": "c5f2663c",
   "metadata": {},
   "outputs": [
    {
     "name": "stdout",
     "output_type": "stream",
     "text": [
      "0    True\n",
      "1    True\n",
      "2    True\n",
      "3    True\n",
      "4    True\n",
      "5    True\n",
      "6    True\n",
      "7    True\n",
      "dtype: bool\n"
     ]
    }
   ],
   "source": [
    "#contains()\n",
    "\n",
    "print(s.str.contains(''))"
   ]
  },
  {
   "cell_type": "code",
   "execution_count": 83,
   "id": "9124d597",
   "metadata": {},
   "outputs": [
    {
     "name": "stdout",
     "output_type": "stream",
     "text": [
      "0        TOM\n",
      "1      JERRY\n",
      "2      MOTTO\n",
      "3      PATLO\n",
      "4    albert@\n",
      "5       1122\n",
      "6     np.nan\n",
      "7       UMER\n",
      "dtype: object\n"
     ]
    }
   ],
   "source": [
    "#replace(a,b)\n",
    "\n",
    "print(s.str.replace('1224','1122'))"
   ]
  },
  {
   "cell_type": "code",
   "execution_count": 84,
   "id": "353bd587",
   "metadata": {},
   "outputs": [
    {
     "name": "stdout",
     "output_type": "stream",
     "text": [
      "0                TOMTOMTOM\n",
      "1          JERRYJERRYJERRY\n",
      "2          MOTTOMOTTOMOTTO\n",
      "3          PATLOPATLOPATLO\n",
      "4    albert@albert@albert@\n",
      "5             122412241224\n",
      "6       np.nannp.nannp.nan\n",
      "7             UMERUMERUMER\n",
      "dtype: object\n"
     ]
    }
   ],
   "source": [
    "#repeat()\n",
    "\n",
    "print(s.str.repeat(3))"
   ]
  },
  {
   "cell_type": "code",
   "execution_count": 85,
   "id": "23b7a906",
   "metadata": {},
   "outputs": [
    {
     "name": "stdout",
     "output_type": "stream",
     "text": [
      "0    1\n",
      "1    0\n",
      "2    1\n",
      "3    0\n",
      "4    0\n",
      "5    0\n",
      "6    0\n",
      "7    1\n",
      "dtype: int64\n"
     ]
    }
   ],
   "source": [
    "#count()\n",
    "\n",
    "print(s.str.count('M'))"
   ]
  },
  {
   "cell_type": "code",
   "execution_count": 86,
   "id": "89c49a05",
   "metadata": {},
   "outputs": [
    {
     "name": "stdout",
     "output_type": "stream",
     "text": [
      "0    False\n",
      "1    False\n",
      "2    False\n",
      "3    False\n",
      "4    False\n",
      "5    False\n",
      "6    False\n",
      "7     True\n",
      "dtype: bool\n"
     ]
    }
   ],
   "source": [
    "#startswith()\n",
    "\n",
    "print(s.str.startswith('U'))"
   ]
  },
  {
   "cell_type": "code",
   "execution_count": 87,
   "id": "c69570cd",
   "metadata": {},
   "outputs": [
    {
     "name": "stdout",
     "output_type": "stream",
     "text": [
      "0    False\n",
      "1     True\n",
      "2    False\n",
      "3    False\n",
      "4    False\n",
      "5    False\n",
      "6    False\n",
      "7    False\n",
      "dtype: bool\n"
     ]
    }
   ],
   "source": [
    "#endswith()\n",
    "\n",
    "print(s.str.endswith('Y'))"
   ]
  },
  {
   "cell_type": "code",
   "execution_count": 88,
   "id": "50cd9456",
   "metadata": {},
   "outputs": [
    {
     "name": "stdout",
     "output_type": "stream",
     "text": [
      "0   -1\n",
      "1    2\n",
      "2   -1\n",
      "3   -1\n",
      "4   -1\n",
      "5   -1\n",
      "6   -1\n",
      "7    3\n",
      "dtype: int64\n"
     ]
    }
   ],
   "source": [
    "#find(pattern) tells the position of pattern\n",
    "\n",
    "print(s.str.find('R'))"
   ]
  },
  {
   "cell_type": "markdown",
   "id": "463e5610",
   "metadata": {},
   "source": [
    "-1 means no value exists*"
   ]
  },
  {
   "cell_type": "code",
   "execution_count": 89,
   "id": "2512bf3a",
   "metadata": {},
   "outputs": [
    {
     "name": "stdout",
     "output_type": "stream",
     "text": [
      "0        []\n",
      "1    [R, R]\n",
      "2        []\n",
      "3        []\n",
      "4        []\n",
      "5        []\n",
      "6        []\n",
      "7       [R]\n",
      "dtype: object\n"
     ]
    }
   ],
   "source": [
    "#findall()\n",
    "\n",
    "print(s.str.findall('R'))"
   ]
  },
  {
   "cell_type": "code",
   "execution_count": 90,
   "id": "847212f6",
   "metadata": {},
   "outputs": [
    {
     "name": "stdout",
     "output_type": "stream",
     "text": [
      "0        tom\n",
      "1      jerry\n",
      "2      motto\n",
      "3      patlo\n",
      "4    ALBERT@\n",
      "5       1224\n",
      "6     NP.NAN\n",
      "7       umer\n",
      "dtype: object\n"
     ]
    }
   ],
   "source": [
    "#swapcase() turns upper into lower and lower into upper\n",
    "\n",
    "print(s.str.swapcase())"
   ]
  },
  {
   "cell_type": "code",
   "execution_count": 91,
   "id": "bfda5a5c",
   "metadata": {},
   "outputs": [
    {
     "name": "stdout",
     "output_type": "stream",
     "text": [
      "0    False\n",
      "1    False\n",
      "2    False\n",
      "3    False\n",
      "4     True\n",
      "5    False\n",
      "6     True\n",
      "7    False\n",
      "dtype: bool\n"
     ]
    }
   ],
   "source": [
    "#islower()\n",
    "\n",
    "print(s.str.islower())"
   ]
  },
  {
   "cell_type": "code",
   "execution_count": 92,
   "id": "4b39f596",
   "metadata": {},
   "outputs": [
    {
     "name": "stdout",
     "output_type": "stream",
     "text": [
      "0     True\n",
      "1     True\n",
      "2     True\n",
      "3     True\n",
      "4    False\n",
      "5    False\n",
      "6    False\n",
      "7     True\n",
      "dtype: bool\n"
     ]
    }
   ],
   "source": [
    "#isupper()\n",
    "\n",
    "print(s.str.isupper())"
   ]
  },
  {
   "cell_type": "code",
   "execution_count": 93,
   "id": "9cd0f53c",
   "metadata": {},
   "outputs": [
    {
     "name": "stdout",
     "output_type": "stream",
     "text": [
      "0    False\n",
      "1    False\n",
      "2    False\n",
      "3    False\n",
      "4    False\n",
      "5     True\n",
      "6    False\n",
      "7    False\n",
      "dtype: bool\n"
     ]
    }
   ],
   "source": [
    "#isnumeric()\n",
    "\n",
    "print(s.str.isnumeric())"
   ]
  },
  {
   "cell_type": "markdown",
   "id": "eedb47d7",
   "metadata": {},
   "source": [
    "# Indexing and selecting data"
   ]
  },
  {
   "cell_type": "markdown",
   "id": "cab04fb8",
   "metadata": {},
   "source": [
    "**loc[]**"
   ]
  },
  {
   "cell_type": "code",
   "execution_count": 94,
   "id": "33a34763",
   "metadata": {},
   "outputs": [
    {
     "name": "stdout",
     "output_type": "stream",
     "text": [
      "          A         B         C         D\n",
      "0  0.407228  0.517575  0.202713  0.406641\n",
      "1  0.122573  0.193644  0.203884  0.955626\n",
      "2  0.816967  0.943325  0.866222  0.459511\n",
      "3  0.144559  0.110889  0.119359  0.499043\n",
      "4  0.048110  0.766280  0.657674  0.174316\n",
      "5  0.807590  0.595556  0.670722  0.865259\n",
      "6  0.758373  0.196725  0.344205  0.234892\n",
      "7  0.587579  0.657213  0.858764  0.693128\n"
     ]
    }
   ],
   "source": [
    "df = pd.DataFrame(np.random.rand(8,4),columns=['A','B','C','D'])\n",
    "print(df)"
   ]
  },
  {
   "cell_type": "code",
   "execution_count": 95,
   "id": "e83f6844",
   "metadata": {},
   "outputs": [
    {
     "name": "stdout",
     "output_type": "stream",
     "text": [
      "          A         C\n",
      "0  0.407228  0.202713\n",
      "1  0.122573  0.203884\n",
      "2  0.816967  0.866222\n",
      "3  0.144559  0.119359\n",
      "4  0.048110  0.657674\n",
      "5  0.807590  0.670722\n",
      "6  0.758373  0.344205\n",
      "7  0.587579  0.858764\n"
     ]
    }
   ],
   "source": [
    "#all row asn selected col . loc[] accept labels\n",
    "\n",
    "print(df.loc[:,['A','C']])"
   ]
  },
  {
   "cell_type": "code",
   "execution_count": 96,
   "id": "d4b74a35",
   "metadata": {},
   "outputs": [
    {
     "name": "stdout",
     "output_type": "stream",
     "text": [
      "          A         B         C         D\n",
      "0  0.407228  0.517575  0.202713  0.406641\n",
      "1  0.122573  0.193644  0.203884  0.955626\n",
      "2  0.816967  0.943325  0.866222  0.459511\n",
      "3  0.144559  0.110889  0.119359  0.499043\n",
      "4  0.048110  0.766280  0.657674  0.174316\n"
     ]
    }
   ],
   "source": [
    "#selected rows \n",
    "\n",
    "print(df.loc[0:4,:])"
   ]
  },
  {
   "cell_type": "code",
   "execution_count": 97,
   "id": "960cb0df",
   "metadata": {},
   "outputs": [
    {
     "name": "stdout",
     "output_type": "stream",
     "text": [
      "          A         D\n",
      "0  0.407228  0.406641\n",
      "4  0.048110  0.174316\n",
      "6  0.758373  0.234892\n"
     ]
    }
   ],
   "source": [
    "#selected rows and col\n",
    "\n",
    "print(df.loc[[0,4,6],['A','D']])"
   ]
  },
  {
   "cell_type": "markdown",
   "id": "29ce2185",
   "metadata": {},
   "source": [
    "**iloc[]**"
   ]
  },
  {
   "cell_type": "code",
   "execution_count": 98,
   "id": "7474e7df",
   "metadata": {},
   "outputs": [
    {
     "name": "stdout",
     "output_type": "stream",
     "text": [
      "          A         B         C         D\n",
      "0  0.407228  0.517575  0.202713  0.406641\n",
      "1  0.122573  0.193644  0.203884  0.955626\n",
      "2  0.816967  0.943325  0.866222  0.459511\n",
      "3  0.144559  0.110889  0.119359  0.499043\n",
      "4  0.048110  0.766280  0.657674  0.174316\n",
      "5  0.807590  0.595556  0.670722  0.865259\n",
      "6  0.758373  0.196725  0.344205  0.234892\n",
      "7  0.587579  0.657213  0.858764  0.693128\n"
     ]
    }
   ],
   "source": [
    "print(df)"
   ]
  },
  {
   "cell_type": "code",
   "execution_count": 99,
   "id": "6b0dcf60",
   "metadata": {},
   "outputs": [
    {
     "name": "stdout",
     "output_type": "stream",
     "text": [
      "          A         B         C         D\n",
      "0  0.407228  0.517575  0.202713  0.406641\n",
      "1  0.122573  0.193644  0.203884  0.955626\n",
      "2  0.816967  0.943325  0.866222  0.459511\n"
     ]
    }
   ],
   "source": [
    "print(df.iloc[:3])"
   ]
  },
  {
   "cell_type": "code",
   "execution_count": 100,
   "id": "c6bb3e55",
   "metadata": {},
   "outputs": [
    {
     "name": "stdout",
     "output_type": "stream",
     "text": [
      "          C         D\n",
      "0  0.202713  0.406641\n",
      "1  0.203884  0.955626\n",
      "2  0.866222  0.459511\n"
     ]
    }
   ],
   "source": [
    "print(df.iloc[0:3,2:4])"
   ]
  },
  {
   "cell_type": "code",
   "execution_count": 101,
   "id": "ac754e0e",
   "metadata": {},
   "outputs": [
    {
     "name": "stdout",
     "output_type": "stream",
     "text": [
      "          B         C\n",
      "0  0.517575  0.202713\n",
      "1  0.193644  0.203884\n",
      "2  0.943325  0.866222\n",
      "3  0.110889  0.119359\n",
      "4  0.766280  0.657674\n",
      "5  0.595556  0.670722\n",
      "6  0.196725  0.344205\n",
      "7  0.657213  0.858764\n"
     ]
    }
   ],
   "source": [
    "print(df.iloc[:,1:3])"
   ]
  },
  {
   "cell_type": "code",
   "execution_count": 102,
   "id": "cf12656c",
   "metadata": {},
   "outputs": [
    {
     "name": "stdout",
     "output_type": "stream",
     "text": [
      "          A         B         C         D\n",
      "0  0.407228  0.517575  0.202713  0.406641\n",
      "1  0.122573  0.193644  0.203884  0.955626\n",
      "2  0.816967  0.943325  0.866222  0.459511\n",
      "3  0.144559  0.110889  0.119359  0.499043\n"
     ]
    }
   ],
   "source": [
    "print(df.iloc[0:4,:])"
   ]
  },
  {
   "cell_type": "code",
   "execution_count": 103,
   "id": "e108a36d",
   "metadata": {},
   "outputs": [
    {
     "name": "stdout",
     "output_type": "stream",
     "text": [
      "0    0.517575\n",
      "1    0.193644\n",
      "2    0.943325\n",
      "3    0.110889\n",
      "4    0.766280\n",
      "5    0.595556\n",
      "6    0.196725\n",
      "7    0.657213\n",
      "Name: B, dtype: float64\n"
     ]
    }
   ],
   "source": [
    "#using []\n",
    "\n",
    "print(df['B'])\n"
   ]
  },
  {
   "cell_type": "code",
   "execution_count": 104,
   "id": "243f2731",
   "metadata": {},
   "outputs": [
    {
     "name": "stdout",
     "output_type": "stream",
     "text": [
      "0    0.406641\n",
      "1    0.955626\n",
      "2    0.459511\n",
      "3    0.499043\n",
      "4    0.174316\n",
      "5    0.865259\n",
      "6    0.234892\n",
      "7    0.693128\n",
      "Name: D, dtype: float64\n"
     ]
    }
   ],
   "source": [
    "#Attribute access. only one \n",
    "\n",
    "print(df.D)"
   ]
  },
  {
   "cell_type": "code",
   "execution_count": 105,
   "id": "80d6b37d",
   "metadata": {},
   "outputs": [
    {
     "ename": "SyntaxError",
     "evalue": "invalid syntax (1112120852.py, line 1)",
     "output_type": "error",
     "traceback": [
      "\u001b[1;36m  File \u001b[1;32m\"C:\\Users\\malik bros\\AppData\\Local\\Temp\\ipykernel_15004\\1112120852.py\"\u001b[1;36m, line \u001b[1;32m1\u001b[0m\n\u001b[1;33m    print(df.[A,C])\u001b[0m\n\u001b[1;37m             ^\u001b[0m\n\u001b[1;31mSyntaxError\u001b[0m\u001b[1;31m:\u001b[0m invalid syntax\n"
     ]
    }
   ],
   "source": [
    "print(df.[A,C])"
   ]
  },
  {
   "cell_type": "markdown",
   "id": "6548e3b3",
   "metadata": {},
   "source": [
    "# Statistical Functions"
   ]
  },
  {
   "cell_type": "code",
   "execution_count": null,
   "id": "1568269d",
   "metadata": {},
   "outputs": [],
   "source": [
    "#pct_change()\n",
    "\n",
    "s = pd.Series([1,2,3,4,5,3])\n",
    "print(s.pct_change())\n",
    "\n",
    "df = pd.DataFrame(np.random.rand(5,2),columns=['a','b'])\n",
    "print(df.pct_change())"
   ]
  },
  {
   "cell_type": "code",
   "execution_count": null,
   "id": "00e56406",
   "metadata": {},
   "outputs": [],
   "source": [
    "#covariance\n",
    "#series\n",
    "\n",
    "s1 = pd.Series(np.random.rand(10))\n",
    "print('s1:     ',s1)\n",
    "s2 = pd.Series(np.random.rand(10))\n",
    "print('s2:     ',s2)\n",
    "print('\\n')\n",
    "print(s1.cov(s2))"
   ]
  },
  {
   "cell_type": "code",
   "execution_count": null,
   "id": "157f6332",
   "metadata": {},
   "outputs": [],
   "source": [
    "#dataframe\n",
    "\n",
    "print(df.a.cov(df.b))\n",
    "print('\\n')\n",
    "print(df.cov())"
   ]
  },
  {
   "cell_type": "code",
   "execution_count": null,
   "id": "a704f4c8",
   "metadata": {},
   "outputs": [],
   "source": [
    "#correlation\n",
    "\n",
    "print(df.a.corr(df.b))\n",
    "print('\\n')\n",
    "print(df.corr())"
   ]
  },
  {
   "cell_type": "code",
   "execution_count": null,
   "id": "068e7f73",
   "metadata": {},
   "outputs": [],
   "source": [
    "s = pd.Series(np.random.rand(10),index=list('abcdefghij'))\n",
    "s.a = s.c = s.e\n",
    "print(s.rank())              "
   ]
  },
  {
   "cell_type": "markdown",
   "id": "bff4955b",
   "metadata": {},
   "source": [
    "**Window Function**"
   ]
  },
  {
   "cell_type": "code",
   "execution_count": null,
   "id": "bc00da4c",
   "metadata": {},
   "outputs": [],
   "source": [
    "#rolling()\n",
    "\n",
    "df = pd.DataFrame(np.random.rand(10,4),index=pd.date_range('1/1/2000',periods=10),columns=list('ABCD'))\n",
    "print(df.rolling(window=4).mean())"
   ]
  },
  {
   "cell_type": "code",
   "execution_count": null,
   "id": "83730d77",
   "metadata": {},
   "outputs": [],
   "source": [
    "#expanding\n",
    "\n",
    "print(df.expanding(min_periods=4).mean())"
   ]
  },
  {
   "cell_type": "code",
   "execution_count": null,
   "id": "382fff5c",
   "metadata": {},
   "outputs": [],
   "source": [
    "#ewm()\n",
    "\n",
    "print(df.ewm(com=0.5).mean())"
   ]
  },
  {
   "cell_type": "markdown",
   "id": "90a53934",
   "metadata": {},
   "source": [
    "# Aggregation"
   ]
  },
  {
   "cell_type": "code",
   "execution_count": null,
   "id": "ee428c7e",
   "metadata": {},
   "outputs": [],
   "source": [
    "#Aggregation on whole df\n",
    "\n",
    "print(df.aggregate(np.sum))"
   ]
  },
  {
   "cell_type": "code",
   "execution_count": null,
   "id": "f943201d",
   "metadata": {},
   "outputs": [],
   "source": [
    "# columns\n",
    "\n",
    "print(df.A.aggregate(np.sum))"
   ]
  },
  {
   "cell_type": "code",
   "execution_count": null,
   "id": "a1a40fc6",
   "metadata": {},
   "outputs": [],
   "source": [
    "#multiple cols\n",
    "\n",
    "print(df[['A','D']].aggregate(np.sum))"
   ]
  },
  {
   "cell_type": "code",
   "execution_count": null,
   "id": "f97a4511",
   "metadata": {},
   "outputs": [],
   "source": [
    "#multiple functions\n",
    "\n",
    "print(df.aggregate([np.sum,np.min]))\n"
   ]
  },
  {
   "cell_type": "code",
   "execution_count": null,
   "id": "bf68d2da",
   "metadata": {},
   "outputs": [],
   "source": [
    "#multiple functions on selected cols\n",
    "\n",
    "print(df[['A','B']].aggregate([np.sum,np.min]))"
   ]
  },
  {
   "cell_type": "code",
   "execution_count": null,
   "id": "8151fd7f",
   "metadata": {},
   "outputs": [],
   "source": [
    "#different fun on diff cols\n",
    "\n",
    "print(df.aggregate({'A': np.sum,'B': np.max}))"
   ]
  },
  {
   "cell_type": "markdown",
   "id": "6a328a7a",
   "metadata": {},
   "source": [
    "# Missing Data"
   ]
  },
  {
   "cell_type": "code",
   "execution_count": null,
   "id": "2018a14e",
   "metadata": {},
   "outputs": [],
   "source": [
    "#df\n",
    "\n",
    "df = pd.DataFrame(np.random.rand(5,4),columns=list('ABCD'),index=list('aikge'))\n",
    "print(df)"
   ]
  },
  {
   "cell_type": "code",
   "execution_count": null,
   "id": "bed9d501",
   "metadata": {},
   "outputs": [],
   "source": [
    "#adding missing values\n",
    "\n",
    "re_ind = df.reindex(list('abcdefghijk'))\n",
    "print(re_ind)"
   ]
  },
  {
   "cell_type": "code",
   "execution_count": null,
   "id": "6a8ea97d",
   "metadata": {},
   "outputs": [],
   "source": [
    "#cheaking for missing data\n",
    "\n",
    "re_ind.isnull()"
   ]
  },
  {
   "cell_type": "code",
   "execution_count": null,
   "id": "24cf09c9",
   "metadata": {},
   "outputs": [],
   "source": [
    "#calculating the missing \n",
    "\n",
    "re_ind.isnull().sum()"
   ]
  },
  {
   "cell_type": "code",
   "execution_count": null,
   "id": "92a5f78f",
   "metadata": {},
   "outputs": [],
   "source": [
    "re_ind.C.isnull().sum()"
   ]
  },
  {
   "cell_type": "markdown",
   "id": "1441767d",
   "metadata": {},
   "source": [
    "**cleaning / filling missings**"
   ]
  },
  {
   "cell_type": "code",
   "execution_count": null,
   "id": "0b74790c",
   "metadata": {},
   "outputs": [],
   "source": [
    "#fill with zeros\n",
    "\n",
    "print(re_ind.fillna(0))"
   ]
  },
  {
   "cell_type": "code",
   "execution_count": null,
   "id": "e8647269",
   "metadata": {},
   "outputs": [],
   "source": [
    "# fill with forward valus\n",
    "\n",
    "print(re_ind.fillna(method='pad'))"
   ]
  },
  {
   "cell_type": "code",
   "execution_count": null,
   "id": "9fde6caa",
   "metadata": {},
   "outputs": [],
   "source": [
    "#fill with  backward value\n",
    "\n",
    "print(re_ind.fillna(method='backfill'))"
   ]
  },
  {
   "cell_type": "code",
   "execution_count": null,
   "id": "3171af98",
   "metadata": {},
   "outputs": [],
   "source": [
    "#droping missings rows\n",
    "\n",
    "print(re_ind.dropna())"
   ]
  },
  {
   "cell_type": "code",
   "execution_count": null,
   "id": "f1b6038f",
   "metadata": {},
   "outputs": [],
   "source": [
    "#drop missing cols\n",
    "\n",
    "print(re_ind.dropna(axis=1))"
   ]
  },
  {
   "cell_type": "markdown",
   "id": "1d534483",
   "metadata": {},
   "source": [
    "# Pandas groupBy"
   ]
  },
  {
   "cell_type": "code",
   "execution_count": null,
   "id": "826b80b1",
   "metadata": {},
   "outputs": [],
   "source": [
    "#df\n",
    "\n",
    "df = pd.DataFrame({'Team': ['zalmi','united','LQ','QQ','MS','Royals','zalmi','united','MS'],\n",
    "                  'rank':[1,2,4,1,3,4,3,2,1],\n",
    "                  'Year':[2000,2001,2002,2003,2004,2005,2006,2007,2008],\n",
    "                  'Points':[122,456,223,556,776,1123,555,789,987]})\n",
    "print(df)"
   ]
  },
  {
   "cell_type": "code",
   "execution_count": null,
   "id": "378f7208",
   "metadata": {},
   "outputs": [],
   "source": [
    "#spliting data into groups\n",
    "\n",
    "print(df.groupby('Team'))"
   ]
  },
  {
   "cell_type": "code",
   "execution_count": null,
   "id": "dd8574c8",
   "metadata": {},
   "outputs": [],
   "source": [
    "#view group\n",
    "\n",
    "print(df.groupby('Team').groups)"
   ]
  },
  {
   "cell_type": "code",
   "execution_count": null,
   "id": "cfd26534",
   "metadata": {},
   "outputs": [],
   "source": [
    "#groupby with multi cols\n",
    "\n",
    "print(df.groupby(['Team','Year']).groups)"
   ]
  },
  {
   "cell_type": "code",
   "execution_count": null,
   "id": "98559d86",
   "metadata": {},
   "outputs": [],
   "source": [
    "#iteration through group\n",
    "\n",
    "g = df.groupby('rank')\n",
    "for i,j in g:\n",
    "    print(i)\n",
    "    print(j)\n",
    "    print('\\n')"
   ]
  },
  {
   "cell_type": "code",
   "execution_count": null,
   "id": "f5ce3268",
   "metadata": {},
   "outputs": [],
   "source": [
    "#select a group\n",
    "\n",
    "print(g.get_group(4))"
   ]
  },
  {
   "cell_type": "markdown",
   "id": "88629c33",
   "metadata": {},
   "source": [
    "**Aggregation**"
   ]
  },
  {
   "cell_type": "code",
   "execution_count": null,
   "id": "6c78aedb",
   "metadata": {},
   "outputs": [],
   "source": [
    "# aggregation\n",
    "\n",
    "print(g.Points.agg(np.mean))\n",
    "\n"
   ]
  },
  {
   "cell_type": "code",
   "execution_count": null,
   "id": "d7c6dd16",
   "metadata": {},
   "outputs": [],
   "source": [
    "#multiple aggregation at oncs\n",
    "\n",
    "print(g.Points.agg([np.mean,np.min,np.sum]))"
   ]
  },
  {
   "cell_type": "markdown",
   "id": "82e02396",
   "metadata": {},
   "source": [
    "**Transformation**"
   ]
  },
  {
   "cell_type": "code",
   "execution_count": null,
   "id": "da4c574d",
   "metadata": {},
   "outputs": [],
   "source": [
    "score = lambda x: (x - x.mean())/x.std()*10\n",
    "print(g.transform(score))"
   ]
  },
  {
   "cell_type": "markdown",
   "id": "18aca518",
   "metadata": {},
   "source": [
    "**Filteration**"
   ]
  },
  {
   "cell_type": "code",
   "execution_count": null,
   "id": "28a6c5a7",
   "metadata": {},
   "outputs": [],
   "source": [
    "print(g.filter(lambda x :len(x) >= 3))"
   ]
  },
  {
   "cell_type": "markdown",
   "id": "f132b0f4",
   "metadata": {},
   "source": [
    "# Merging/Joining"
   ]
  },
  {
   "cell_type": "code",
   "execution_count": null,
   "id": "cbc71c82",
   "metadata": {},
   "outputs": [],
   "source": [
    "#df\n",
    "\n",
    "left = pd.DataFrame({'id':list('12345'),\n",
    "                    \"sub_id\": ['sub1','sub2','sub3','sub4','sub5'] ,\n",
    "                    'name':['ali','ahmad','umer','usman','adil']})\n",
    "right = pd.DataFrame({'id': list('12345'),\n",
    "                    \"sub_id\": ['sub6','sub4','sub3','sub8','sub5'] ,\n",
    "                    'name':['rom','shan','arsal','zain','hamza']})\n",
    "print(left)\n",
    "print('\\n')\n",
    "print(right)"
   ]
  },
  {
   "cell_type": "code",
   "execution_count": null,
   "id": "3010c601",
   "metadata": {},
   "outputs": [],
   "source": [
    "#merge on key \n",
    "\n",
    "print(pd.merge(left,right,on='id'))"
   ]
  },
  {
   "cell_type": "code",
   "execution_count": null,
   "id": "144b04ee",
   "metadata": {},
   "outputs": [],
   "source": [
    "#merge on multy keys \n",
    "\n",
    "print(pd.merge(left,right,on=['id','sub_id']))"
   ]
  },
  {
   "cell_type": "markdown",
   "id": "edc67c75",
   "metadata": {},
   "source": [
    "**Merge uing how argument**"
   ]
  },
  {
   "cell_type": "code",
   "execution_count": null,
   "id": "8a0b42f2",
   "metadata": {},
   "outputs": [],
   "source": [
    "#Left join\n",
    "\n",
    "print(pd.merge(left,right,on='sub_id',how='left'))"
   ]
  },
  {
   "cell_type": "code",
   "execution_count": null,
   "id": "5370d5da",
   "metadata": {},
   "outputs": [],
   "source": [
    "#right join\n",
    "\n",
    "print(pd.merge(left,right,on='sub_id',how='right'))"
   ]
  },
  {
   "cell_type": "code",
   "execution_count": null,
   "id": "1642a7b1",
   "metadata": {},
   "outputs": [],
   "source": [
    "#outer join\n",
    "\n",
    "print(pd.merge(left,right,on='sub_id',how='outer'))"
   ]
  },
  {
   "cell_type": "code",
   "execution_count": null,
   "id": "e23ec538",
   "metadata": {},
   "outputs": [],
   "source": [
    "#inner join\n",
    "\n",
    "print(pd.merge(left,right,on='sub_id',how='inner'))"
   ]
  },
  {
   "cell_type": "code",
   "execution_count": null,
   "id": "b9a44fd4",
   "metadata": {},
   "outputs": [],
   "source": []
  }
 ],
 "metadata": {
  "kernelspec": {
   "display_name": "Python 3 (ipykernel)",
   "language": "python",
   "name": "python3"
  },
  "language_info": {
   "codemirror_mode": {
    "name": "ipython",
    "version": 3
   },
   "file_extension": ".py",
   "mimetype": "text/x-python",
   "name": "python",
   "nbconvert_exporter": "python",
   "pygments_lexer": "ipython3",
   "version": "3.9.13"
  }
 },
 "nbformat": 4,
 "nbformat_minor": 5
}
